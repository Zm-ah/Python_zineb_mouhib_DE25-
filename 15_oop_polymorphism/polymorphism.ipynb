{
 "cells": [
  {
   "cell_type": "markdown",
   "id": "caf3e5af",
   "metadata": {},
   "source": [
    "# Polimorphism \n",
    "\n",
    "\"Many shaps\"\n",
    "\n",
    "- same functione name or operatore used for different typs \n",
    "- e.g.\n",
    "  - \"2\"+ \"3\"-> \"23\"\n",
    "  - 2 + 3 -> 5 \n",
    "\n",
    "\n",
    "\n",
    " in this exemple, the plus oparattore works different for differnt typs, it has been operator overloded  "
   ]
  },
  {
   "cell_type": "code",
   "execution_count": 1,
   "id": "07eac060",
   "metadata": {},
   "outputs": [
    {
     "data": {
      "text/plain": [
       "'222'"
      ]
     },
     "execution_count": 1,
     "metadata": {},
     "output_type": "execute_result"
    }
   ],
   "source": [
    "\"2\" +\"22\" "
   ]
  },
  {
   "cell_type": "code",
   "execution_count": 2,
   "id": "10674bb1",
   "metadata": {},
   "outputs": [
    {
     "data": {
      "text/plain": [
       "6"
      ]
     },
     "execution_count": 2,
     "metadata": {},
     "output_type": "execute_result"
    }
   ],
   "source": [
    "2 + 4 "
   ]
  },
  {
   "cell_type": "code",
   "execution_count": 3,
   "id": "22eb99f5",
   "metadata": {},
   "outputs": [
    {
     "ename": "TypeError",
     "evalue": "unsupported operand type(s) for +: 'int' and 'str'",
     "output_type": "error",
     "traceback": [
      "\u001b[31m---------------------------------------------------------------------------\u001b[39m",
      "\u001b[31mTypeError\u001b[39m                                 Traceback (most recent call last)",
      "\u001b[36mCell\u001b[39m\u001b[36m \u001b[39m\u001b[32mIn[3]\u001b[39m\u001b[32m, line 1\u001b[39m\n\u001b[32m----> \u001b[39m\u001b[32m1\u001b[39m \u001b[32;43m2\u001b[39;49m\u001b[43m \u001b[49m\u001b[43m+\u001b[49m\u001b[43m \u001b[49m\u001b[33;43m\"\u001b[39;49m\u001b[33;43m22\u001b[39;49m\u001b[33;43m\"\u001b[39;49m \n",
      "\u001b[31mTypeError\u001b[39m: unsupported operand type(s) for +: 'int' and 'str'"
     ]
    }
   ],
   "source": [
    "2 + \"22\" "
   ]
  },
  {
   "cell_type": "code",
   "execution_count": 5,
   "id": "9d30072f",
   "metadata": {},
   "outputs": [
    {
     "data": {
      "text/plain": [
       "[2, 2]"
      ]
     },
     "execution_count": 5,
     "metadata": {},
     "output_type": "execute_result"
    }
   ],
   "source": [
    "[2] * 2 "
   ]
  },
  {
   "cell_type": "markdown",
   "id": "b8695d95",
   "metadata": {},
   "source": [
    "### Polimorphism in class method \n",
    " "
   ]
  },
  {
   "cell_type": "code",
   "execution_count": 19,
   "id": "8236520a",
   "metadata": {},
   "outputs": [
    {
     "name": "stdout",
     "output_type": "stream",
     "text": [
      "I am a fish, my name is balen\n",
      "fish balen says blupp blupp\n",
      "I am a fish, my name is squalo\n",
      "fish squalo says blupp blupp\n",
      "I am a fox, my name is bluie\n",
      "fox bluie says  wo wo \n"
     ]
    }
   ],
   "source": [
    "class Fish:\n",
    "    def __init__(self, name):\n",
    "        self.name = name \n",
    "\n",
    "    def __str__(self):\n",
    "        return f\"I am a fish, my name is {self.name}\" \n",
    "    \n",
    "    def speek(self):\n",
    "        print(f\"fish {self.name } says blupp blupp\")\n",
    "\n",
    "\n",
    "class Fox:\n",
    "       \n",
    "    def __init__(self, name):\n",
    "            self.name = name \n",
    "\n",
    "    def __str__(self):\n",
    "            return f\"I am a fox, my name is {self.name}\" \n",
    "\n",
    "    def speek(self):\n",
    "            print(f\"fox {self.name } says  wo wo \")\n",
    "\n",
    "\n",
    "\n",
    "\n",
    "animales = [Fish(\"balen\"), Fish(\"squalo\"), Fox(\"bluie\")]\n",
    " \n",
    "for animale in animales:\n",
    "      print(animale)\n",
    "      animale.speek()\n",
    "      \n"
   ]
  }
 ],
 "metadata": {
  "kernelspec": {
   "display_name": "Python_zineb_mouhib_DE25- (3.12.10)",
   "language": "python",
   "name": "python3"
  },
  "language_info": {
   "codemirror_mode": {
    "name": "ipython",
    "version": 3
   },
   "file_extension": ".py",
   "mimetype": "text/x-python",
   "name": "python",
   "nbconvert_exporter": "python",
   "pygments_lexer": "ipython3",
   "version": "3.12.10"
  }
 },
 "nbformat": 4,
 "nbformat_minor": 5
}
