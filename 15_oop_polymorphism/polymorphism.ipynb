{
 "cells": [
  {
   "cell_type": "markdown",
   "id": "caf3e5af",
   "metadata": {},
   "source": [
    "# Polimorphism \n",
    "\n",
    "\"Many shaps\"\n",
    "\n",
    "- same functione name or operatore used for different typs \n",
    "- e.g.\n",
    "  - \"2\"+ \"3\"-> \"23\"\n",
    "  - 2 + 3 -> 5 \n",
    "\n",
    "\n",
    "\n",
    " in this exemple, the plus oparattore works different for differnt typs, it has been operator overloded  "
   ]
  },
  {
   "cell_type": "code",
   "execution_count": 1,
   "id": "07eac060",
   "metadata": {},
   "outputs": [
    {
     "data": {
      "text/plain": [
       "'222'"
      ]
     },
     "execution_count": 1,
     "metadata": {},
     "output_type": "execute_result"
    }
   ],
   "source": [
    "\"2\" +\"22\" "
   ]
  },
  {
   "cell_type": "code",
   "execution_count": 2,
   "id": "10674bb1",
   "metadata": {},
   "outputs": [
    {
     "data": {
      "text/plain": [
       "6"
      ]
     },
     "execution_count": 2,
     "metadata": {},
     "output_type": "execute_result"
    }
   ],
   "source": [
    "2 + 4 "
   ]
  },
  {
   "cell_type": "code",
   "execution_count": 3,
   "id": "22eb99f5",
   "metadata": {},
   "outputs": [
    {
     "ename": "TypeError",
     "evalue": "unsupported operand type(s) for +: 'int' and 'str'",
     "output_type": "error",
     "traceback": [
      "\u001b[31m---------------------------------------------------------------------------\u001b[39m",
      "\u001b[31mTypeError\u001b[39m                                 Traceback (most recent call last)",
      "\u001b[36mCell\u001b[39m\u001b[36m \u001b[39m\u001b[32mIn[3]\u001b[39m\u001b[32m, line 1\u001b[39m\n\u001b[32m----> \u001b[39m\u001b[32m1\u001b[39m \u001b[32;43m2\u001b[39;49m\u001b[43m \u001b[49m\u001b[43m+\u001b[49m\u001b[43m \u001b[49m\u001b[33;43m\"\u001b[39;49m\u001b[33;43m22\u001b[39;49m\u001b[33;43m\"\u001b[39;49m \n",
      "\u001b[31mTypeError\u001b[39m: unsupported operand type(s) for +: 'int' and 'str'"
     ]
    }
   ],
   "source": [
    "2 + \"22\" "
   ]
  },
  {
   "cell_type": "code",
   "execution_count": null,
   "id": "9d30072f",
   "metadata": {},
   "outputs": [
    {
     "data": {
      "text/plain": [
       "[2, 2]"
      ]
     },
     "execution_count": 5,
     "metadata": {},
     "output_type": "execute_result"
    }
   ],
   "source": [
    "[2] * 2 "
   ]
  },
  {
   "cell_type": "markdown",
   "id": "b8695d95",
   "metadata": {},
   "source": [
    "### Polimorphism in class method \n",
    " "
   ]
  },
  {
   "cell_type": "code",
   "execution_count": null,
   "id": "8236520a",
   "metadata": {},
   "outputs": [
    {
     "name": "stdout",
     "output_type": "stream",
     "text": [
      "I am a fish, my name is balen\n",
      "fish balen says blupp blupp\n",
      "I am a fish, my name is squalo\n",
      "fish squalo says blupp blupp\n",
      "I am a fox, my name is bluie\n",
      "fox bluie says  wo wo \n"
     ]
    }
   ],
   "source": [
    "class Fish:\n",
    "    def __init__(self, name):\n",
    "        self.name = name \n",
    "\n",
    "    def __str__(self):\n",
    "        return f\"I am a fish, my name is {self.name}\" \n",
    "    \n",
    "    def speek(self):\n",
    "        print(f\"fish {self.name } says blupp blupp\")\n",
    "\n",
    "\n",
    "class Fox:\n",
    "       \n",
    "    def __init__(self, name):\n",
    "            self.name = name \n",
    "\n",
    "    def __str__(self):\n",
    "            return f\"I am a fox, my name is {self.name}\" \n",
    "\n",
    "    def speek(self):\n",
    "            print(f\"fox {self.name } says  wo wo \")\n",
    "\n",
    "\n",
    "\n",
    "\n",
    "animales = [Fish(\"balen\"), Fish(\"squalo\"), Fox(\"bluie\")]\n",
    " \n",
    "for animale in animales:\n",
    "      print(animale)\n",
    "      animale.speek()\n",
    "      \n"
   ]
  },
  {
   "cell_type": "markdown",
   "id": "39e278ec",
   "metadata": {},
   "source": [
    "# Operatore overlodign \n",
    "Ability to define and use custom behavior of operators for your objects. This is achieved by implementing dunder or special methods that correspond to that operator.\n",
    "\n",
    "it gives additional functionality to an operator\n",
    "e.g. + is overloaded for strings, int, float etc.\n",
    "\n",
    "\n",
    "\n",
    "\n"
   ]
  },
  {
   "cell_type": "markdown",
   "id": "101c8b7f",
   "metadata": {},
   "source": [
    " # Vekotr "
   ]
  },
  {
   "cell_type": "code",
   "execution_count": null,
   "id": "caf6f482",
   "metadata": {},
   "outputs": [
    {
     "name": "stdout",
     "output_type": "stream",
     "text": [
      " elements must be numbers not <class 'str'>\n",
      " vektor cant be empty \n"
     ]
    }
   ],
   "source": [
    "from utils import validate_number\n",
    "\n",
    "\n",
    "class Vector:\n",
    "     \"\"\"\" A class representing a Euclidian vektor \"\"\"  \n",
    "     def __init__(self, * numbers):\n",
    "             \n",
    "\n",
    "        for number in numbers:\n",
    "            validate_number(number)\n",
    "\n",
    "        if  len(numbers) <= 0:\n",
    "            raise ValueError (\" vektor cant be empty \")\n",
    "        \n",
    "        self._numbers = numbers\n",
    "    \n",
    "    # read only \n",
    "     @property\n",
    "     def numbers(self):\n",
    "         return self._numbers \n",
    "              \n",
    "    \n",
    "  \n",
    "\n",
    "v1 = Vector (1,2)\n",
    "\n",
    "try:\n",
    "    v2 = Vector (\"1\", 2)\n",
    "except TypeError as err:\n",
    "    print(err)\n",
    "\n",
    "    try :\n",
    "        v2 = Vector ()\n",
    "    except ValueError as err:\n",
    "        print(err)\n",
    "\n"
   ]
  },
  {
   "cell_type": "code",
   "execution_count": 2,
   "id": "f5ea7dc5",
   "metadata": {},
   "outputs": [
    {
     "name": "stdout",
     "output_type": "stream",
     "text": [
      "len(v3)=2\n",
      "len(v4)=6\n",
      "v3 = Vector(1, 1)\n",
      "v5 = Vector(2, -1)\n",
      "v5+v3 = Vector(3, 0)\n",
      "v3+v5 = Vector(3, 0)\n",
      "v3-v5 = Vector(-1, 2)\n",
      "v4[-1] = 6\n",
      "v4[2:] = (41, 5, 5, 6)\n"
     ]
    }
   ],
   "source": [
    "from utils import validate_number\n",
    "from numbers import Number\n",
    "from __future__ import annotations\n",
    "\n",
    "\n",
    "class Vector:\n",
    "   \"\"\" A class representing a Euclidian vektor \"\"\"  \n",
    "   def __init__(self, *numbers):\n",
    "            \n",
    "      for number in numbers:\n",
    "         validate_number(number)\n",
    "\n",
    "      if  len(numbers) <= 0:\n",
    "         raise ValueError (\" vektor cant be empty \")\n",
    "      \n",
    "      self._numbers = numbers\n",
    "   \n",
    "    # read only \n",
    "   @property\n",
    "   def numbers(self):\n",
    "      return self._numbers \n",
    "   \n",
    "   def __repr__(self):\n",
    "      return f\"Vector{self.numbers}\"\n",
    "   \n",
    "\n",
    "   # operator overloading -> makes it possible to use len() function on Vector\n",
    "   def __len__(self) -> int:\n",
    "      # this len works on a tuple \n",
    "      return len(self.numbers)         \n",
    "   \n",
    "   def __add__(self, other: Vector) -> Vector:\n",
    "      numbers = (a + b for a , b in zip (self.numbers, other.numbers ))\n",
    "      return Vector(*numbers)\n",
    "\n",
    "\n",
    "   def __sub__(self, other: Vector) -> Vector:\n",
    "      numbers = (a - b for a , b in zip (self.numbers, other.numbers ))\n",
    "      return Vector(*numbers)\n",
    "\n",
    "   def __getitem__(self , item: int)-> Number:\n",
    "      return self.numbers[item]\n",
    "   \n",
    "   def __mul__(self, number: Number) -> Vector:\n",
    "      numbers = (number * a for a in self.numbers)\n",
    "      return Vector(*numbers)\n",
    "   \n",
    "   def __rmul__(self, number: Number) -> Vector:\n",
    "      return self * number\n",
    "\n",
    "\n",
    "\n",
    "v3 = Vector(1,1)\n",
    "v4 = Vector(1, 2, 41, 5, 5, 6)\n",
    "v5 = Vector( 2 , -1)\n",
    "\n",
    "print(f\"{len(v3)=}\")\n",
    "print(f\"{len(v4)=}\")\n",
    "print(f\"{v3 = }\")\n",
    "print(f\"{v5 = }\")\n",
    "print(f\"{v5+v3 = }\")\n",
    "print(f\"{v3+v5 = }\")\n",
    "print(f\"{v3-v5 = }\")\n",
    "print(f\"{v4[-1] = }\")\n",
    "print(f\"{v4[2:] = }\")\n",
    "\n"
   ]
  },
  {
   "cell_type": "code",
   "execution_count": 4,
   "id": "1a7eeb4b",
   "metadata": {},
   "outputs": [
    {
     "data": {
      "text/plain": [
       "3"
      ]
     },
     "execution_count": 4,
     "metadata": {},
     "output_type": "execute_result"
    }
   ],
   "source": [
    "l1 = [1, 1, 3]\n",
    "l1 [-1]"
   ]
  },
  {
   "cell_type": "code",
   "execution_count": 5,
   "id": "fd61e2f3",
   "metadata": {},
   "outputs": [
    {
     "data": {
      "text/plain": [
       "Vector(2, 3)"
      ]
     },
     "execution_count": 5,
     "metadata": {},
     "output_type": "execute_result"
    }
   ],
   "source": [
    "v3 + v4 "
   ]
  },
  {
   "cell_type": "code",
   "execution_count": 3,
   "id": "ec630abf",
   "metadata": {},
   "outputs": [
    {
     "name": "stdout",
     "output_type": "stream",
     "text": [
      "2\n"
     ]
    },
    {
     "data": {
      "text/plain": [
       "(2, 6)"
      ]
     },
     "execution_count": 3,
     "metadata": {},
     "output_type": "execute_result"
    }
   ],
   "source": [
    "print(len([1,2]))\n",
    "len(v3), len (v4)"
   ]
  },
  {
   "cell_type": "code",
   "execution_count": 6,
   "id": "1110ebc3",
   "metadata": {},
   "outputs": [
    {
     "name": "stdout",
     "output_type": "stream",
     "text": [
      "1 -1\n",
      "2 -2\n",
      "3 -3\n"
     ]
    }
   ],
   "source": [
    "for a,b in zip ((1, 2, 3), (-1,-2,-3)):\n",
    "    print(a,b)\n",
    "    "
   ]
  }
 ],
 "metadata": {
  "kernelspec": {
   "display_name": "Python_zineb_mouhib_DE25- (3.12.10)",
   "language": "python",
   "name": "python3"
  },
  "language_info": {
   "codemirror_mode": {
    "name": "ipython",
    "version": 3
   },
   "file_extension": ".py",
   "mimetype": "text/x-python",
   "name": "python",
   "nbconvert_exporter": "python",
   "pygments_lexer": "ipython3",
   "version": "3.12.10"
  }
 },
 "nbformat": 4,
 "nbformat_minor": 5
}
