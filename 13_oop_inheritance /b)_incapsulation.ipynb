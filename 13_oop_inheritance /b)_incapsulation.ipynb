{
 "cells": [
  {
   "cell_type": "markdown",
   "metadata": {},
   "source": [
    "# oop encapsulation \n",
    "\n",
    "- information hiding \n",
    "- user don't need to knod the underlying how is works\n",
    "- ex:  we can hide validation - e.g. propper age for e person \n",
    "- user of your calss need to knoew how to use it - i.e witch methods and settributs kan be used\n",
    "\n",
    "\n",
    "in general \n",
    "- one way to do incapsulation is to use tha private methosd and private attributs \n",
    "  - these can't be accecced from the outside of the class \n",
    "- however in python ther is no such thing as private \n",
    "\n",
    "\n"
   ]
  },
  {
   "cell_type": "code",
   "execution_count": 1,
   "metadata": {},
   "outputs": [
    {
     "data": {
      "text/plain": [
       "('Kokchun ', 33)"
      ]
     },
     "execution_count": 1,
     "metadata": {},
     "output_type": "execute_result"
    }
   ],
   "source": [
    "class person:\n",
    "    def __init__(self,name ,age ):\n",
    "        self.name = name \n",
    "        self.age = age \n",
    "\n",
    "p1 = person (\"Kokchun \",33 )       \n",
    "p1.name,p1.age "
   ]
  },
  {
   "cell_type": "code",
   "execution_count": 2,
   "metadata": {},
   "outputs": [
    {
     "data": {
      "text/plain": [
       "-5"
      ]
     },
     "execution_count": 2,
     "metadata": {},
     "output_type": "execute_result"
    }
   ],
   "source": [
    "p2 = person(\"Ada\", -5 )\n",
    "p2.age \n"
   ]
  },
  {
   "cell_type": "code",
   "execution_count": null,
   "metadata": {},
   "outputs": [],
   "source": []
  }
 ],
 "metadata": {
  "kernelspec": {
   "display_name": "Python 3",
   "language": "python",
   "name": "python3"
  },
  "language_info": {
   "codemirror_mode": {
    "name": "ipython",
    "version": 3
   },
   "file_extension": ".py",
   "mimetype": "text/x-python",
   "name": "python",
   "nbconvert_exporter": "python",
   "pygments_lexer": "ipython3",
   "version": "3.12.10"
  }
 },
 "nbformat": 4,
 "nbformat_minor": 2
}
