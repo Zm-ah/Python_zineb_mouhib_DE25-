{
 "cells": [
  {
   "cell_type": "markdown",
   "metadata": {},
   "source": [
    "#### OOP FONDAMENTALS \n",
    "- objekt oriented programming "
   ]
  },
  {
   "cell_type": "code",
   "execution_count": 19,
   "metadata": {},
   "outputs": [
    {
     "name": "stdout",
     "output_type": "stream",
     "text": [
      "dunder init is runnign\n"
     ]
    },
    {
     "data": {
      "text/plain": [
       "'STI'"
      ]
     },
     "execution_count": 19,
     "metadata": {},
     "output_type": "execute_result"
    }
   ],
   "source": [
    "# defime a class with name admissione \n",
    "class Admission:\n",
    "\n",
    "     # \"dunder init\" - initializer - note 2 underscors before and after init \n",
    "     # this method will be run when you instantiate a instans from this class \n",
    "    def __init__(self, school, name, program = \"programming\"):\n",
    "        print(\"dunder init is runnign\")\n",
    "       # set the attribut to the values from the argument \n",
    "        self.school = school \n",
    "        self.name = name \n",
    "        self.program = program\n",
    "       # self.program = program\n",
    "# instantiate the instans person1 the \n",
    "person1 = Admission (\"STI\" , \"Cada \" )# constroctor \n",
    "\n",
    "person1.school \n",
    "\n"
   ]
  },
  {
   "cell_type": "code",
   "execution_count": 20,
   "metadata": {},
   "outputs": [
    {
     "name": "stdout",
     "output_type": "stream",
     "text": [
      "dunder init is runnign\n"
     ]
    },
    {
     "data": {
      "text/plain": [
       "'Java'"
      ]
     },
     "execution_count": 20,
     "metadata": {},
     "output_type": "execute_result"
    }
   ],
   "source": [
    "person2 = Admission (name = \"Jhonny \", school = \"cool school\" , program = \"Java\")\n",
    "\n",
    "person2.program "
   ]
  },
  {
   "cell_type": "code",
   "execution_count": 20,
   "metadata": {},
   "outputs": [],
   "source": [
    "class student: \n",
    "    def __init__(self, name, study , school , age , pass_ = True):\n",
    "        self.name = name \n",
    "        self.study = study \n",
    "        self.school = school \n",
    "        self.age = age \n",
    "        self.pass_= True \n",
    "    \n",
    "    def studys(self):\n",
    "        print(f\"{self.name} studies {self.study}\")\n",
    "              \n",
    "\n",
    "\n",
    "\n",
    "student1 = student(name = \"zineb\", study =\"programmin\", school =  \"STI\", age =\"33\", pass_ = \" True \")\n",
    " \n",
    "student2 = student( name = \"lisa\",study = \"programing\", school = \" STI\",age = \"25\" , pass_ = \"True\")\n",
    "               \n",
    "            \n",
    "\n",
    "\n",
    "\n",
    "\n",
    "\n"
   ]
  },
  {
   "cell_type": "code",
   "execution_count": 22,
   "metadata": {},
   "outputs": [
    {
     "name": "stdout",
     "output_type": "stream",
     "text": [
      "zineb studies programmin\n"
     ]
    }
   ],
   "source": [
    "student1.studys()"
   ]
  },
  {
   "cell_type": "markdown",
   "metadata": {},
   "source": [
    "## __repr__-dunder repper method \n",
    "- method to represent your class to other developers \n",
    "- usualy: describe how to create an instance from this class \n",
    "- by defolt we get "
   ]
  },
  {
   "cell_type": "code",
   "execution_count": 36,
   "metadata": {},
   "outputs": [],
   "source": [
    "class student: \n",
    "    def __init__(self, name, study , school , age , pass_ = True):\n",
    "        self.name = name \n",
    "        self.study = study \n",
    "        self.school = school \n",
    "        self.age = age \n",
    "        self.pass_= True \n",
    "    \n",
    "   \n",
    "    # method \n",
    "    def studys(self):\n",
    "        print(f\"{self.name} studies {self.study}\")\n",
    "\n",
    "    def __str__ (self):\n",
    "        return f\"{self.study} is studying {self.study}in school{self.school}\"\n",
    "\n",
    "    def __repr__(self):\n",
    "          # sutdent (name =\"bobbo\", study =\"economics\", \n",
    "          # school = \"STI\" age = 31, pass_= fales)\n",
    "\n",
    "        return f\"student {self.name} study {self.study} at {self.school}, at age of {self.age} passed the exam {self.pass_}\"\n",
    "        # S f\"student (name = \"{self.name} , study {self.study}, age {self.age}, pass_{self.pass_}\")\n",
    "\n",
    "\n",
    "student1 = student(\n",
    "    name = \"zineb\", \n",
    "    study =\"programmin\", \n",
    "    school =  \"STI\", \n",
    "    age =\"33\", \n",
    "    pass_ = \" True \")\n",
    " \n",
    "student2 = student( \n",
    "    name = \"lisa\",\n",
    "    study = \"programing\",\n",
    "    school = \" STI\",\n",
    "    age = \"25\" , \n",
    "    pass_ = \"True\")\n",
    "\n",
    "\n",
    "student3 =student (\n",
    "    name = \"bobbo\",\n",
    "    study = \"economi\",\n",
    "    school = \" STI\",\n",
    "    age = \"20\" , \n",
    "    pass_ = \"false\")\n",
    "\n",
    "\n",
    "\n",
    "\n",
    "\n",
    "               "
   ]
  },
  {
   "cell_type": "code",
   "execution_count": 34,
   "metadata": {},
   "outputs": [
    {
     "data": {
      "text/plain": [
       "'student lisa study programing at  STI, at age of 25 passed the exam True'"
      ]
     },
     "execution_count": 34,
     "metadata": {},
     "output_type": "execute_result"
    }
   ],
   "source": [
    "student2.__repr__()"
   ]
  },
  {
   "cell_type": "code",
   "execution_count": 35,
   "metadata": {},
   "outputs": [
    {
     "data": {
      "text/plain": [
       "'student bobbo study programing at  STI, at age of 20 passed the exam True'"
      ]
     },
     "execution_count": 35,
     "metadata": {},
     "output_type": "execute_result"
    }
   ],
   "source": [
    "repr(student3)"
   ]
  },
  {
   "cell_type": "code",
   "execution_count": 37,
   "metadata": {},
   "outputs": [
    {
     "ename": "TypeError",
     "evalue": "'str' object is not callable",
     "output_type": "error",
     "traceback": [
      "\u001b[31m---------------------------------------------------------------------------\u001b[39m",
      "\u001b[31mTypeError\u001b[39m                                 Traceback (most recent call last)",
      "\u001b[36mCell\u001b[39m\u001b[36m \u001b[39m\u001b[32mIn[37]\u001b[39m\u001b[32m, line 1\u001b[39m\n\u001b[32m----> \u001b[39m\u001b[32m1\u001b[39m \u001b[43mstudent3\u001b[49m\u001b[43m.\u001b[49m\u001b[43mstudy\u001b[49m\u001b[43m(\u001b[49m\u001b[43m)\u001b[49m\n",
      "\u001b[31mTypeError\u001b[39m: 'str' object is not callable"
     ]
    }
   ],
   "source": [
    "student3.study()"
   ]
  }
 ],
 "metadata": {
  "kernelspec": {
   "display_name": "Python 3",
   "language": "python",
   "name": "python3"
  },
  "language_info": {
   "codemirror_mode": {
    "name": "ipython",
    "version": 3
   },
   "file_extension": ".py",
   "mimetype": "text/x-python",
   "name": "python",
   "nbconvert_exporter": "python",
   "pygments_lexer": "ipython3",
   "version": "3.12.10"
  }
 },
 "nbformat": 4,
 "nbformat_minor": 2
}
