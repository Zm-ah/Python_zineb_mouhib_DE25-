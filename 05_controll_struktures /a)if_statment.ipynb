{
 "cells": [
  {
   "cell_type": "markdown",
   "metadata": {},
   "source": [
    "## Lecture 5a - if statement "
   ]
  },
  {
   "cell_type": "markdown",
   "metadata": {},
   "source": [
    "- one way to control the flow of running the scripts \n",
    "- use if statment for controlling the flow based on conditions\n"
   ]
  },
  {
   "cell_type": "markdown",
   "metadata": {},
   "source": [
    "#### exemple of two possible scenarios \n",
    "- based on the users's input of age, print out a message showing that it the user should watch a scary movie. "
   ]
  },
  {
   "cell_type": "code",
   "execution_count": 15,
   "metadata": {},
   "outputs": [],
   "source": [
    "age = int (input (\"Enter your age : \"))"
   ]
  },
  {
   "cell_type": "code",
   "execution_count": 14,
   "metadata": {},
   "outputs": [
    {
     "data": {
      "text/plain": [
       "int"
      ]
     },
     "execution_count": 14,
     "metadata": {},
     "output_type": "execute_result"
    }
   ],
   "source": [
    "#check the data type of age variable \n",
    "type (age)"
   ]
  },
  {
   "cell_type": "code",
   "execution_count": 10,
   "metadata": {},
   "outputs": [],
   "source": [
    "age_limit = 15 "
   ]
  },
  {
   "cell_type": "code",
   "execution_count": 11,
   "metadata": {},
   "outputs": [
    {
     "data": {
      "text/plain": [
       "int"
      ]
     },
     "execution_count": 11,
     "metadata": {},
     "output_type": "execute_result"
    }
   ],
   "source": [
    "#check the data type of age_limit variable \n",
    "type(age_limit)"
   ]
  },
  {
   "cell_type": "code",
   "execution_count": 16,
   "metadata": {},
   "outputs": [
    {
     "name": "stdout",
     "output_type": "stream",
     "text": [
      "Sorry, you ate too young to watch this scary movie\n",
      "Watch this cartoon instead! \n"
     ]
    }
   ],
   "source": [
    "# we compare the tow variables , age and age_limit, to set up our condition for the statment \n",
    "if age < age_limit: #between if and :, specify your condition \n",
    "    # if teh condition is met, run the block of codes\n",
    "    print (\"Sorry, you ate too young to watch this scary movie\")\n",
    "    print (\"Watch this cartoon instead! \")\n",
    "else: \n",
    "    # if the condition is not met, run this blok of codes instead \n",
    "    print (\" Enjoy this sacry movie \")\n",
    "       "
   ]
  },
  {
   "cell_type": "markdown",
   "metadata": {},
   "source": [
    "#### exemple of more than two possible scenarios \n",
    "\n",
    "- use if - elif -else statment \n",
    "- the following exemple shows how to suggest the dos of medicine depending on the patient's weight "
   ]
  },
  {
   "cell_type": "code",
   "execution_count": 17,
   "metadata": {},
   "outputs": [
    {
     "data": {
      "text/plain": [
       "float"
      ]
     },
     "execution_count": 17,
     "metadata": {},
     "output_type": "execute_result"
    }
   ],
   "source": [
    "weight = float(input(\"what is your weight in kg\" ))\n",
    "type(weight)"
   ]
  },
  {
   "cell_type": "code",
   "execution_count": 18,
   "metadata": {},
   "outputs": [
    {
     "name": "stdout",
     "output_type": "stream",
     "text": [
      "The patient should take 1000mg per day \n"
     ]
    }
   ],
   "source": [
    "if weight < 20:\n",
    "    #python will fistr checj if the weight is less than 20 \n",
    "    #is yes, run the blok of code and stop\n",
    "    print (\"the patient should take 500mg per day\")\n",
    "elif weight < 40:\n",
    "# python will secondly chek if weight is less than 40 \n",
    "#if yes, run this part of cod and stop \n",
    "    print (\"the patient shuld take 750mg per day\")\n",
    "else: \n",
    "\n",
    "    #if the tow scenarios above are not met, python will run this part of the code and stop \n",
    "    print (\"The patient should take 1000mg per day \")"
   ]
  },
  {
   "cell_type": "markdown",
   "metadata": {},
   "source": [
    "## Modul operatore (%)\n",
    "- return the reminder of a devision \n",
    "- for exemple 5 % 3 = 2,9 %3 = 0 \n"
   ]
  },
  {
   "cell_type": "code",
   "execution_count": 1,
   "metadata": {},
   "outputs": [],
   "source": [
    "number = 5"
   ]
  },
  {
   "cell_type": "code",
   "execution_count": 2,
   "metadata": {},
   "outputs": [
    {
     "name": "stdout",
     "output_type": "stream",
     "text": [
      "It is an odd numner and the value assigned to this is 5.\n"
     ]
    }
   ],
   "source": [
    "# print out whether the value assigned to the variable, number , is odd or even \n",
    "if number % 2 == 0: # == is the equality operator \n",
    "    print ( f\"It is an even numner and the value assigned to this is {number}.\")\n",
    "else:\n",
    "    print (f\"It is an odd numner and the value assigned to this is {number}.\")"
   ]
  },
  {
   "cell_type": "markdown",
   "metadata": {},
   "source": [
    "#### nested if statment \n",
    "- when we have another if statment under a scenario \n",
    "- you need to think if nested if statment produceces clean codes \n"
   ]
  },
  {
   "cell_type": "code",
   "execution_count": 3,
   "metadata": {},
   "outputs": [
    {
     "name": "stdout",
     "output_type": "stream",
     "text": [
      "This id didivible by 5. check if it is divisible by 2.\n",
      "This is an odd number.\n"
     ]
    }
   ],
   "source": [
    "# if a number is devisible by 5, further check it is also divisible by 2 (even number)\n",
    "if number % 5 == 0:\n",
    "    print (\"This id didivible by 5. check if it is divisible by 2.\")\n",
    "    if number % 2 == 0:\n",
    "        Print (\"This is an even number\")\n",
    "    else:\n",
    "        print (\"This is an odd number.\")\n",
    "\n",
    "    \n",
    "else:\n",
    "    print (\" This is not divisible by 5 5. no need to check more.\")  "
   ]
  }
 ],
 "metadata": {
  "kernelspec": {
   "display_name": "Python 3",
   "language": "python",
   "name": "python3"
  },
  "language_info": {
   "codemirror_mode": {
    "name": "ipython",
    "version": 3
   },
   "file_extension": ".py",
   "mimetype": "text/x-python",
   "name": "python",
   "nbconvert_exporter": "python",
   "pygments_lexer": "ipython3",
   "version": "3.12.10"
  }
 },
 "nbformat": 4,
 "nbformat_minor": 2
}
