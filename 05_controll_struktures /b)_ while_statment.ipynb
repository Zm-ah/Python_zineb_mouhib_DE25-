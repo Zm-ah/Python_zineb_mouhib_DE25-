{
 "cells": [
  {
   "cell_type": "markdown",
   "metadata": {},
   "source": [
    "# Lecture notes - while-statment \n",
    "#### This is the lecture note for while-statment, but it's built upon contents from previus lecture such as: \n",
    "- input - output\n",
    "- variables \n",
    "- if-statment \n",
    " #### informally you can view a while statment as an if- loop where code is repeated as long as condition evaluates to True. Note That the code that is repeated is under the code scope, tha is intended. \n"
   ]
  },
  {
   "cell_type": "markdown",
   "metadata": {},
   "source": [
    "#### while condition:\n",
    "    statmensts \n",
    "         ....."
   ]
  },
  {
   "cell_type": "markdown",
   "metadata": {},
   "source": [
    "##### While loop is perferred when not knowing in beforehand the number of iterations"
   ]
  },
  {
   "cell_type": "code",
   "execution_count": 1,
   "metadata": {},
   "outputs": [
    {
     "name": "stdout",
     "output_type": "stream",
     "text": [
      "hello0\n",
      "hello1\n",
      "hello2\n",
      "hello3\n",
      "hello4\n"
     ]
    }
   ],
   "source": [
    "n = 0 \n",
    "while n < 5: \n",
    "     print(f\"hello{n}\")\n",
    "     n += 1  # adds one to n \n",
    "     "
   ]
  },
  {
   "cell_type": "markdown",
   "metadata": {},
   "source": [
    "## exemple - oil leakage \n",
    "there is an iol lekage causing the bird population in an island to 1/2 in each year. From start there were 80000 birds, how many years does it take for it to have 1/10 remaining?"
   ]
  },
  {
   "cell_type": "code",
   "execution_count": 7,
   "metadata": {},
   "outputs": [
    {
     "name": "stdout",
     "output_type": "stream",
     "text": [
      "Year 0 there were 80000 birds\n",
      "It takes 1 years for the birds to have 1/10 remaining\n",
      "Year 1 there were 40000 birds\n",
      "It takes 2 years for the birds to have 1/10 remaining\n",
      "Year 2 there were 20000 birds\n",
      "It takes 3 years for the birds to have 1/10 remaining\n",
      "Year 3 there were 10000 birds\n",
      "It takes 4 years for the birds to have 1/10 remaining\n"
     ]
    }
   ],
   "source": [
    "birds = 80000 \n",
    "year = 0\n",
    "\n",
    "while birds > 8000:\n",
    "    print(f\"Year {year} there were {birds:.0f} birds\")\n",
    "    birds /= 2 # divide by half \n",
    "    year += 1 \n",
    "    print (f\"It takes {year} years for the birds to have 1/10 remaining\")"
   ]
  },
  {
   "cell_type": "markdown",
   "metadata": {},
   "source": [
    "## Assignment operators \n",
    "\n",
    "#### As we have seen already in previous exemples, assigning values to variable. for exemple \n"
   ]
  },
  {
   "cell_type": "code",
   "execution_count": 5,
   "metadata": {},
   "outputs": [],
   "source": [
    "x = 0 # assigns  0 to variable x \n",
    "x += 1 # x = x +1 i.e. edds on to x "
   ]
  },
  {
   "cell_type": "code",
   "execution_count": 6,
   "metadata": {},
   "outputs": [
    {
     "name": "stdout",
     "output_type": "stream",
     "text": [
      "-9 -7 -5 -3 -1 1 3 5 7 9 "
     ]
    }
   ],
   "source": [
    "# print out all odd numbers between -10 and 10 \n",
    "n = -9 \n",
    "while n <= 10: \n",
    "    print(n, end= \" \")\n",
    "    n += 2\n",
    "    "
   ]
  },
  {
   "cell_type": "markdown",
   "metadata": {},
   "source": [
    "## Break statment \n",
    "With the break statment, we can break a while loop when it is runnin. A common use case for this is when you have an infinite loop. "
   ]
  },
  {
   "cell_type": "code",
   "execution_count": 8,
   "metadata": {},
   "outputs": [
    {
     "name": "stdout",
     "output_type": "stream",
     "text": [
      "12 is unfortunately wrong\n",
      "Have a nice day!\n"
     ]
    }
   ],
   "source": [
    "import random as rnd # this module has fontions for generale random numbers \n",
    "while True:\n",
    "    number1 = rnd.randint(1,10)\n",
    "    number2 = rnd.randint(1,10)\n",
    "\n",
    "    user_answer = (input (f\"what is {number1}*{number2}?\"))\n",
    "    if user_answer == number1*number2:\n",
    "        print ( \"correct\")\n",
    "    else:\n",
    "        print (f\"{user_answer} is unfortunately wrong\")\n",
    "\n",
    "    play_again = input (\" wanna play again (y for yes)?\") \n",
    "\n",
    "    if play_again != \"y\":\n",
    "        print(\"Have a nice day!\")   \n",
    "        break \n",
    "    "
   ]
  }
 ],
 "metadata": {
  "kernelspec": {
   "display_name": "Python 3",
   "language": "python",
   "name": "python3"
  },
  "language_info": {
   "codemirror_mode": {
    "name": "ipython",
    "version": 3
   },
   "file_extension": ".py",
   "mimetype": "text/x-python",
   "name": "python",
   "nbconvert_exporter": "python",
   "pygments_lexer": "ipython3",
   "version": "3.12.10"
  }
 },
 "nbformat": 4,
 "nbformat_minor": 2
}
