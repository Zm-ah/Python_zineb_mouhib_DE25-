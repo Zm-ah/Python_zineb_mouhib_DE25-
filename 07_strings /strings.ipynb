{
 "cells": [
  {
   "cell_type": "markdown",
   "metadata": {},
   "source": [
    "# Lecture 7  - strings \n",
    "- we have just created and printed out string type variable in lecture 4 \n",
    "- This lecture is more about strings \n"
   ]
  },
  {
   "cell_type": "markdown",
   "metadata": {},
   "source": [
    "## concatenate strings \n"
   ]
  },
  {
   "cell_type": "code",
   "execution_count": 28,
   "metadata": {},
   "outputs": [
    {
     "name": "stdout",
     "output_type": "stream",
     "text": [
      "Kokchun Giang\n"
     ]
    }
   ],
   "source": [
    "# concatenate multiple strings with + oparator \n",
    "# remeber + operatore has another meaning \n",
    "\n",
    "\n",
    "\n",
    "firstname = \"Kokchun \"\n",
    "lastname = \"Giang\"\n",
    "\n",
    "fullname = firstname +lastname \n",
    "print (fullname)"
   ]
  },
  {
   "cell_type": "code",
   "execution_count": 29,
   "metadata": {},
   "outputs": [
    {
     "name": "stdout",
     "output_type": "stream",
     "text": [
      "Kokchun  Giang\n"
     ]
    }
   ],
   "source": [
    "# concatenate also with \" \" \n",
    "\n",
    "space = \" \" \n",
    "fullname_with_space = firstname + \" \" + lastname # we can replace space variable just with (\" \") \n",
    "print (fullname_with_space)\n",
    "\n",
    "\n"
   ]
  },
  {
   "cell_type": "code",
   "execution_count": 30,
   "metadata": {},
   "outputs": [
    {
     "name": "stdout",
     "output_type": "stream",
     "text": [
      "Kokchun  Giang is working in a company called AIgineer AB. and his adress is  bla bla bla bla .\n",
      "\n",
      "Kokchun  Giang is working in a company called\n",
      " AIgineer AB and his adress is \n",
      "  bla bla bla bla .\n",
      "Kokchun  Giang is working in a company called AIgineer AB.\n",
      " and his adress is  bla bla bla bla .\n"
     ]
    }
   ],
   "source": [
    "# multi line f string for concatenating many strings \n",
    "work = \"AIgineer AB\"\n",
    "Adress = \" bla bla bla bla \"\n",
    "\n",
    "# f-string  with one line \n",
    "print(f\"{fullname_with_space} is working in a company called {work}. and his adress is {Adress}.\")\n",
    "\n",
    "\n",
    "# f-string  with multiline \n",
    "print(f\"\"\"\n",
    "{fullname_with_space} is working in a company called\n",
    " {work} and his adress is \n",
    " {Adress}.\"\"\")\n",
    "\n",
    "# ho usato semplicemente la divisione della linea con \\n \n",
    "print(f\"\"\"{fullname_with_space} is working in a company called {work}.\\n and his adress is {Adress}.\"\"\")\n",
    "\n",
    "\n"
   ]
  },
  {
   "cell_type": "markdown",
   "metadata": {},
   "source": [
    "## concatenate with loop \n"
   ]
  },
  {
   "cell_type": "code",
   "execution_count": 31,
   "metadata": {},
   "outputs": [
    {
     "name": "stdout",
     "output_type": "stream",
     "text": [
      "Today's fruits: apple,  orange, srawberry.\n",
      "apple\n",
      "orange\n",
      "strawbarry \n"
     ]
    }
   ],
   "source": [
    "# concatenate with loop \n",
    "fruit_today = \" apple, \" + \" orange,\" + \" srawberry.\"\n",
    "print (f\"Today's fruits:{fruit_today}\")\n",
    "\n",
    "\n",
    "fruits_today_list = [\"apple\" , \"orange\", \"strawbarry \"]\n",
    "\n",
    "for fruit in fruits_today_list:\n",
    "    print(fruit)"
   ]
  },
  {
   "cell_type": "markdown",
   "metadata": {},
   "source": [
    "### indexing & slicing \n",
    "- an operation to access \"an item\"\n",
    "- what is an item in the context srings ? it is one of the caracter inside the string\n",
    "- we can use [] operatore for indexing \n",
    "- slicing is also possible if we want to access multiple caracter \n",
    "- we use : to slicing "
   ]
  },
  {
   "cell_type": "code",
   "execution_count": 32,
   "metadata": {},
   "outputs": [
    {
     "name": "stdout",
     "output_type": "stream",
     "text": [
      "Kokchun  Giang\n",
      "the first leter of the the string is:K\n",
      " the last letter is n\n",
      " the last letter is g\n"
     ]
    }
   ],
   "source": [
    "# index\n",
    "\n",
    "print(fullname_with_space)\n",
    "print(f\"the first leter of the the string is:{fullname_with_space[0]}\")\n",
    "print (F\" the last letter is {fullname_with_space[12]}\")\n",
    "print (F\" the last letter is {fullname_with_space[-1]}\")"
   ]
  },
  {
   "cell_type": "code",
   "execution_count": 42,
   "metadata": {},
   "outputs": [
    {
     "name": "stdout",
     "output_type": "stream",
     "text": [
      " The first tree leters:Kokch\n",
      " The first tree leters:G\n",
      "The last five leters:gnaiG  nuhckoK\n",
      "The last five leters:gnaiG\n"
     ]
    }
   ],
   "source": [
    "# slicing \n",
    "print(F\" The first tree leters:{fullname_with_space[0:5]}\")\n",
    "print(F\" The first tree leters:{fullname_with_space[-5]}\")\n",
    "# slicing reversly \n",
    "print(f\"The last five leters:{  fullname_with_space[::-1]}\")\n",
    "\n",
    "print(f\"The last five leters:{  fullname_with_space[-1:-6:-1]}\")\n"
   ]
  },
  {
   "cell_type": "markdown",
   "metadata": {},
   "source": [
    "# some commun exemple to clean strings \n",
    "- make use of string  methods \n",
    "- a good intruduction of many common string methods here:\n",
    "- syntax of using function on string variables \n",
    "  - 'len(string_variable)'\n",
    "- syntax of using method on string variable \n",
    "  - stirng_variable.upper() \n",
    "  - upper(string_variable)"
   ]
  },
  {
   "cell_type": "code",
   "execution_count": null,
   "metadata": {},
   "outputs": [],
   "source": [
    "# use len() function to check the lenght of string \n",
    "len(fullname_with_space) "
   ]
  },
  {
   "cell_type": "code",
   "execution_count": 46,
   "metadata": {},
   "outputs": [
    {
     "data": {
      "text/plain": [
       "['math', ' biology', '  cHemMIsry ', ' ProGRamming.   ']"
      ]
     },
     "execution_count": 46,
     "metadata": {},
     "output_type": "execute_result"
    }
   ],
   "source": [
    "# spliting a string \n",
    "\n",
    "subjects = \"math, biology,  cHemMIsry , ProGRamming.   \" \n",
    "\n",
    "subjects = subjects.split(\",\")\n",
    "\n",
    "subjects \n"
   ]
  },
  {
   "cell_type": "code",
   "execution_count": 48,
   "metadata": {},
   "outputs": [
    {
     "name": "stdout",
     "output_type": "stream",
     "text": [
      "math\n",
      "biology\n",
      "cHemMIsry\n",
      "ProGRamming.\n"
     ]
    }
   ],
   "source": [
    "\n",
    "# strip off and leading and trailing space \n",
    "# check out also rstrip() and lstrip()\n",
    "\n",
    "for subject in subjects:\n",
    "    print(subject.strip())\n",
    "\n",
    "\n"
   ]
  },
  {
   "cell_type": "code",
   "execution_count": 50,
   "metadata": {},
   "outputs": [
    {
     "name": "stdout",
     "output_type": "stream",
     "text": [
      "math\n",
      "biology\n",
      "chemmisry\n",
      "programming.\n"
     ]
    }
   ],
   "source": [
    "# making upper case letter \n",
    "# checkout  lower \n",
    "\n",
    "\n",
    "for subject in subjects:\n",
    "    print(subject.strip().lower()) # posso usare anche questo metodo per trasformare le letter in maiuscole upper()"
   ]
  },
  {
   "cell_type": "markdown",
   "metadata": {},
   "source": [
    "# Regular expressione \n",
    "- look for a pettern \n",
    "- make use of different functions in re pakage \n",
    "- syntax of using functions from an imported pakage \n",
    "  - re.findall()\n",
    "  - imported_pacage.function\n",
    "- check out the w3schooles re tutorial to learn more symbols   \n"
   ]
  },
  {
   "cell_type": "code",
   "execution_count": 51,
   "metadata": {},
   "outputs": [],
   "source": [
    "import re\n"
   ]
  },
  {
   "cell_type": "code",
   "execution_count": 52,
   "metadata": {},
   "outputs": [
    {
     "data": {
      "text/plain": [
       "['att', 'att']"
      ]
     },
     "execution_count": 52,
     "metadata": {},
     "output_type": "execute_result"
    }
   ],
   "source": [
    "text = \"det var en gång en katt som tog på sig en hatt.\" \n",
    "\n",
    "list_letter_att = re.findall(\"att\",text) # the first argument is the pettern, the second part is where i want to find the pattern  \n",
    "\n",
    "\n",
    "list_letter_att "
   ]
  },
  {
   "cell_type": "code",
   "execution_count": 54,
   "metadata": {},
   "outputs": [
    {
     "data": {
      "text/plain": [
       "['katt', 'hatt']"
      ]
     },
     "execution_count": 54,
     "metadata": {},
     "output_type": "execute_result"
    }
   ],
   "source": [
    "list_word_att = re.findall(\".att\",text) # det àr super viktig med (.) innan att annars det ska inte se ut hela ordet \n",
    "\n",
    "list_word_att "
   ]
  },
  {
   "cell_type": "code",
   "execution_count": 60,
   "metadata": {},
   "outputs": [
    {
     "data": {
      "text/plain": [
       "['12346789']"
      ]
     },
     "execution_count": 60,
     "metadata": {},
     "output_type": "execute_result"
    }
   ],
   "source": [
    "personal_number = \"Ida: 12346789-1234, Berit: 765432-1234\" \n",
    "personal_number_eight = re.findall(r\"\\d{8}\", personal_number) # r for raw string \n",
    "personal_number_eight"
   ]
  },
  {
   "cell_type": "code",
   "execution_count": 61,
   "metadata": {},
   "outputs": [
    {
     "data": {
      "text/plain": [
       "['12346789-1234']"
      ]
     },
     "execution_count": 61,
     "metadata": {},
     "output_type": "execute_result"
    }
   ],
   "source": [
    "personal_number_eight = re.findall(r\"\\d{8}-\\d{4}\", personal_number) # r for raw string \n",
    "personal_number_eight"
   ]
  }
 ],
 "metadata": {
  "kernelspec": {
   "display_name": "Python 3",
   "language": "python",
   "name": "python3"
  },
  "language_info": {
   "codemirror_mode": {
    "name": "ipython",
    "version": 3
   },
   "file_extension": ".py",
   "mimetype": "text/x-python",
   "name": "python",
   "nbconvert_exporter": "python",
   "pygments_lexer": "ipython3",
   "version": "3.12.10"
  }
 },
 "nbformat": 4,
 "nbformat_minor": 2
}
