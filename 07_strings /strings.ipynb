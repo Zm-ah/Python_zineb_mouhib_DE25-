{
 "cells": [
  {
   "cell_type": "markdown",
   "metadata": {},
   "source": [
    "# Lecture 7  - strings \n",
    "- we have just created and printed out string type variable in lecture 4 \n",
    "- This lecture is more about strings \n"
   ]
  },
  {
   "cell_type": "markdown",
   "metadata": {},
   "source": [
    "## concatenate strings \n"
   ]
  },
  {
   "cell_type": "code",
   "execution_count": 1,
   "metadata": {},
   "outputs": [
    {
     "name": "stdout",
     "output_type": "stream",
     "text": [
      "Kockchun Giang\n"
     ]
    }
   ],
   "source": [
    "# concatenate multiple strings with + oparator \n",
    "# remeber + operatore has another meaning \n",
    "\n",
    "\n",
    "\n",
    "firstname = \"Kockchun \"\n",
    "lastname = \"Giang\"\n",
    "\n",
    "fullname = firstname +lastname \n",
    "print (fullname)"
   ]
  },
  {
   "cell_type": "code",
   "execution_count": 4,
   "metadata": {},
   "outputs": [
    {
     "name": "stdout",
     "output_type": "stream",
     "text": [
      "Kockchun  Giang\n"
     ]
    }
   ],
   "source": [
    "# concatenate also with \" \" \n",
    "\n",
    "space = \" \" \n",
    "fullname_with_space = firstname + \" \" + lastname # we can replace space variable just with (\" \") \n",
    "print (fullname_with_space)\n",
    "\n",
    "\n"
   ]
  },
  {
   "cell_type": "code",
   "execution_count": 11,
   "metadata": {},
   "outputs": [
    {
     "name": "stdout",
     "output_type": "stream",
     "text": [
      "Kockchun  Giang is working in a company called AIgineer AB. and his adress is  bla bla bla bla .\n",
      "Kockchun  Giang is working in a company called AIgineer AB.\n",
      "       and his adress is  bla bla bla bla .\n",
      "Kockchun  Giang is working in a company called AIgineer AB.\n",
      " and his adress is  bla bla bla bla .\n"
     ]
    }
   ],
   "source": [
    "# multi line f string for concatenating many strings \n",
    "work = \"AIgineer AB\"\n",
    "Adress = \" bla bla bla bla \"\n",
    "\n",
    "# f-string  with one line \n",
    "print(f\"{fullname_with_space} is working in a company called {work}. and his adress is {Adress}.\")\n",
    "\n",
    "\n",
    "# f-string  with multiline \n",
    "print(f\"\"\"{fullname_with_space} is working in a company called {work}.\n",
    "       and his adress is {Adress}.\"\"\")\n",
    "\n",
    "# ho usato semplicemente la divisione della linea con \\n \n",
    "print(f\"\"\"{fullname_with_space} is working in a company called {work}.\\n and his adress is {Adress}.\"\"\")\n",
    "\n",
    "\n"
   ]
  },
  {
   "cell_type": "code",
   "execution_count": 17,
   "metadata": {},
   "outputs": [
    {
     "name": "stdout",
     "output_type": "stream",
     "text": [
      "Today's fruits: apple,  orange, srawberry.\n",
      "apple\n",
      "orange\n",
      "strawbarry \n"
     ]
    }
   ],
   "source": [
    "# concatenate with loop \n",
    "fruit_today = \" apple, \" + \" orange,\" + \" srawberry.\"\n",
    "print (f\"Today's fruits:{fruit_today}\")\n",
    "\n",
    "\n",
    "fruits_today_list = [\"apple\" , \"orange\", \"strawbarry \"]\n",
    "\n",
    "for fruit in fruits_today_list:\n",
    "    print(fruit)"
   ]
  },
  {
   "cell_type": "markdown",
   "metadata": {},
   "source": [
    "# "
   ]
  }
 ],
 "metadata": {
  "kernelspec": {
   "display_name": "Python 3",
   "language": "python",
   "name": "python3"
  },
  "language_info": {
   "codemirror_mode": {
    "name": "ipython",
    "version": 3
   },
   "file_extension": ".py",
   "mimetype": "text/x-python",
   "name": "python",
   "nbconvert_exporter": "python",
   "pygments_lexer": "ipython3",
   "version": "3.12.10"
  }
 },
 "nbformat": 4,
 "nbformat_minor": 2
}
