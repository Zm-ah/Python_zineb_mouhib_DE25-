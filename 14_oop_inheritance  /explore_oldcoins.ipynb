{
 "cells": [
  {
   "cell_type": "markdown",
   "id": "60e64ed7",
   "metadata": {},
   "source": [
    "# exploring the module oldcoins "
   ]
  },
  {
   "cell_type": "code",
   "execution_count": 1,
   "id": "53e81dbe",
   "metadata": {},
   "outputs": [
    {
     "ename": "ModuleNotFoundError",
     "evalue": "No module named 'oldcoins'",
     "output_type": "error",
     "traceback": [
      "\u001b[31m---------------------------------------------------------------------------\u001b[39m",
      "\u001b[31mModuleNotFoundError\u001b[39m                       Traceback (most recent call last)",
      "\u001b[36mCell\u001b[39m\u001b[36m \u001b[39m\u001b[32mIn[1]\u001b[39m\u001b[32m, line 1\u001b[39m\n\u001b[32m----> \u001b[39m\u001b[32m1\u001b[39m \u001b[38;5;28;01mfrom\u001b[39;00m\u001b[38;5;250m \u001b[39m\u001b[34;01moldcoins\u001b[39;00m\u001b[38;5;250m \u001b[39m\u001b[38;5;28;01mimport\u001b[39;00m OldCoinsStash\n\u001b[32m      2\u001b[39m stash_ragnar = OldCoinsStash (\u001b[33m\"\u001b[39m\u001b[33mRagnar Lothbroke\u001b[39m\u001b[33m\"\u001b[39m)\n\u001b[32m      3\u001b[39m stash_ragnar\n",
      "\u001b[31mModuleNotFoundError\u001b[39m: No module named 'oldcoins'"
     ]
    }
   ],
   "source": [
    "from oldcoins import OldCoinsStash\n",
    "stash_ragnar = OldCoinsStash (\"Ragnar Lothbroke\")\n",
    "stash_ragnar\n"
   ]
  },
  {
   "cell_type": "code",
   "execution_count": 2,
   "id": "e2155f7c",
   "metadata": {},
   "outputs": [
    {
     "ename": "NameError",
     "evalue": "name 'stash_ragnar' is not defined",
     "output_type": "error",
     "traceback": [
      "\u001b[31m---------------------------------------------------------------------------\u001b[39m",
      "\u001b[31mNameError\u001b[39m                                 Traceback (most recent call last)",
      "\u001b[36mCell\u001b[39m\u001b[36m \u001b[39m\u001b[32mIn[2]\u001b[39m\u001b[32m, line 1\u001b[39m\n\u001b[32m----> \u001b[39m\u001b[32m1\u001b[39m \u001b[43mstash_ragnar\u001b[49m.check_balance()\n",
      "\u001b[31mNameError\u001b[39m: name 'stash_ragnar' is not defined"
     ]
    }
   ],
   "source": [
    "stash_ragnar.check_balance()\n"
   ]
  },
  {
   "cell_type": "code",
   "execution_count": null,
   "id": "c6224c9e",
   "metadata": {},
   "outputs": [],
   "source": [
    "stash_ragnar.deposit(riksdalar = 50, skilling = 25)\n",
    "stash_ragnar.withdraw(70,20) \n"
   ]
  },
  {
   "cell_type": "code",
   "execution_count": null,
   "id": "72d43092",
   "metadata": {},
   "outputs": [],
   "source": [
    "stash_ragnar.check_balance()"
   ]
  },
  {
   "cell_type": "code",
   "execution_count": null,
   "id": "96e7b8c5",
   "metadata": {},
   "outputs": [],
   "source": [
    "stash_bjorn = OldCoinsStash (\"Bjorn\")\n",
    "stash_bjorn \n"
   ]
  },
  {
   "cell_type": "code",
   "execution_count": null,
   "id": "b9b0d633",
   "metadata": {},
   "outputs": [],
   "source": [
    "stash_bjorn.check_balance() "
   ]
  },
  {
   "cell_type": "code",
   "execution_count": null,
   "id": "ba84ffd5",
   "metadata": {},
   "outputs": [],
   "source": []
  }
 ],
 "metadata": {
  "kernelspec": {
   "display_name": "Python_zineb_mouhib_DE25- (3.12.10)",
   "language": "python",
   "name": "python3"
  },
  "language_info": {
   "codemirror_mode": {
    "name": "ipython",
    "version": 3
   },
   "file_extension": ".py",
   "mimetype": "text/x-python",
   "name": "python",
   "nbconvert_exporter": "python",
   "pygments_lexer": "ipython3",
   "version": "3.12.10"
  }
 },
 "nbformat": 4,
 "nbformat_minor": 5
}
