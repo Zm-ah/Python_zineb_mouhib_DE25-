{
 "cells": [
  {
   "cell_type": "markdown",
   "metadata": {},
   "source": [
    "# oop encapsulation \n",
    "\n",
    "- information hiding \n",
    "- user don't need to knod the underlying how is works\n",
    "- ex:  we can hide validation - e.g. propper age for e person \n",
    "- user of your calss need to knoew how to use it - i.e witch methods and settributs kan be used\n",
    "\n",
    "\n",
    "In general \n",
    "- one way to do incapsulation is to use tha private methosd and private attributs \n",
    "  - these can't be accecced from the outside of the class \n",
    "- however in python ther is no such thing as private \n",
    "- in python - private by convention by usung a        undrscore prefix \n",
    "\n"
   ]
  },
  {
   "cell_type": "code",
   "execution_count": 25,
   "metadata": {},
   "outputs": [
    {
     "data": {
      "text/plain": [
       "('Kokchun ', 33)"
      ]
     },
     "execution_count": 25,
     "metadata": {},
     "output_type": "execute_result"
    }
   ],
   "source": [
    "# the code it's public \n",
    "class Person:\n",
    "    def __init__(self,name ,age ):\n",
    "        self.name = name \n",
    "        self.age = age \n",
    "\n",
    "p1 = Person (\"Kokchun \",33 )       \n",
    "p1.name,p1.age "
   ]
  },
  {
   "cell_type": "code",
   "execution_count": 26,
   "metadata": {},
   "outputs": [
    {
     "data": {
      "text/plain": [
       "-5"
      ]
     },
     "execution_count": 26,
     "metadata": {},
     "output_type": "execute_result"
    }
   ],
   "source": [
    "p2 = Person(\"Ada\", -5 )\n",
    "p2.age \n"
   ]
  },
  {
   "cell_type": "code",
   "execution_count": 27,
   "metadata": {},
   "outputs": [
    {
     "ename": "AttributeError",
     "evalue": "'Person' object has no attribute 'name'",
     "output_type": "error",
     "traceback": [
      "\u001b[31m---------------------------------------------------------------------------\u001b[39m",
      "\u001b[31mAttributeError\u001b[39m                            Traceback (most recent call last)",
      "\u001b[36mCell\u001b[39m\u001b[36m \u001b[39m\u001b[32mIn[27]\u001b[39m\u001b[32m, line 10\u001b[39m\n\u001b[32m      8\u001b[39m p3 = Person (\u001b[33m\"\u001b[39m\u001b[33mBeba\u001b[39m\u001b[33m\"\u001b[39m,-\u001b[32m3\u001b[39m ) \n\u001b[32m      9\u001b[39m \u001b[38;5;66;03m# atribut do not exist eny more    \u001b[39;00m\n\u001b[32m---> \u001b[39m\u001b[32m10\u001b[39m \u001b[43mp3\u001b[49m\u001b[43m.\u001b[49m\u001b[43mname\u001b[49m \n",
      "\u001b[31mAttributeError\u001b[39m: 'Person' object has no attribute 'name'"
     ]
    }
   ],
   "source": [
    "class Person:\n",
    "    def __init__(self,name ,age ):\n",
    "        self._name = name \n",
    "        self._age = age \n",
    "\n",
    "\n",
    "\n",
    "p3 = Person (\"Beba\",-3 ) \n",
    "# atribut do not exist eny more    \n",
    "p3.name \n",
    "\n",
    " "
   ]
  },
  {
   "cell_type": "code",
   "execution_count": null,
   "metadata": {},
   "outputs": [
    {
     "data": {
      "text/plain": [
       "'Beba'"
      ]
     },
     "execution_count": 28,
     "metadata": {},
     "output_type": "execute_result"
    }
   ],
   "source": [
    "\n",
    "# we  should not do this, but we can \n",
    "# python programmers know that underscore prefix is private by counting \n",
    "\n",
    "\n",
    "\n",
    "p3._name"
   ]
  },
  {
   "cell_type": "markdown",
   "metadata": {},
   "source": [
    "##### fix validation of age - Native approach "
   ]
  },
  {
   "cell_type": "code",
   "execution_count": 36,
   "metadata": {},
   "outputs": [
    {
     "name": "stdout",
     "output_type": "stream",
     "text": [
      "Age most be between 0-124\n"
     ]
    },
    {
     "data": {
      "text/plain": [
       "person('Ada',5)"
      ]
     },
     "execution_count": 36,
     "metadata": {},
     "output_type": "execute_result"
    }
   ],
   "source": [
    "class Person:\n",
    "    def __init__(self, name , age ):\n",
    "        self._name = name \n",
    "\n",
    "\n",
    "        if not (0<= age <125 ):\n",
    "              raise ValueError(\"Age most be between 0-124\")\n",
    "\n",
    "        self._age = age\n",
    "\n",
    "\n",
    "    def __repr__(self):\n",
    "        return f\"person('{self._name}',{self._age})\"\n",
    "\n",
    "\n",
    "  \n",
    "try: \n",
    "     p4 = Person(\"dodo\", -5)   \n",
    "except ValueError as err:\n",
    "     print(err)\n",
    "\n",
    "\n",
    "p5 = Person(\"Ada\", 5)\n",
    "p5 "
   ]
  },
  {
   "cell_type": "code",
   "execution_count": 37,
   "metadata": {},
   "outputs": [
    {
     "data": {
      "text/plain": [
       "person('Ada',-5)"
      ]
     },
     "execution_count": 37,
     "metadata": {},
     "output_type": "execute_result"
    }
   ],
   "source": [
    "p5._age = -5 \n",
    "p5 \n"
   ]
  },
  {
   "cell_type": "code",
   "execution_count": 1,
   "metadata": {},
   "outputs": [
    {
     "ename": "NameError",
     "evalue": "name 'p5' is not defined",
     "output_type": "error",
     "traceback": [
      "\u001b[31m---------------------------------------------------------------------------\u001b[39m",
      "\u001b[31mNameError\u001b[39m                                 Traceback (most recent call last)",
      "\u001b[36mCell\u001b[39m\u001b[36m \u001b[39m\u001b[32mIn[1]\u001b[39m\u001b[32m, line 1\u001b[39m\n\u001b[32m----> \u001b[39m\u001b[32m1\u001b[39m \u001b[43mp5\u001b[49m.age \n",
      "\u001b[31mNameError\u001b[39m: name 'p5' is not defined"
     ]
    }
   ],
   "source": [
    "p5.age "
   ]
  },
  {
   "cell_type": "markdown",
   "metadata": {},
   "source": [
    "## property \n",
    "\n",
    " - getting ->  gets a value \n",
    " - getting ->  stes a value  \n",
    "\n",
    "\n",
    " idea : put in validatione code in the setter -> encapsulated vaòiadtion code "
   ]
  },
  {
   "cell_type": "markdown",
   "metadata": {},
   "source": [
    "###  read-only age \n",
    "- only the gettr is defined tha is with the @proptety "
   ]
  },
  {
   "cell_type": "code",
   "execution_count": 43,
   "metadata": {},
   "outputs": [
    {
     "name": "stdout",
     "output_type": "stream",
     "text": [
      "age getter called\n",
      "8\n"
     ]
    }
   ],
   "source": [
    "class Person:\n",
    "    def __init__(self,name ,age ):\n",
    "        self._name = name \n",
    "\n",
    "\n",
    "        if not (0 <= age <125):\n",
    "              raise ValueError(\"Age most be between 0 - 124\")\n",
    "\n",
    "        self._age = age \n",
    "    # a decorator -it gives a function more functionslly \n",
    "    #make in into a proprity (getter end setter)\n",
    "\n",
    "    @property\n",
    "\n",
    "    def age (self):\n",
    "         print(\"age getter called\")\n",
    "         return self._age \n",
    "\n",
    "        \n",
    "     \n",
    "    def __repr__(self):\n",
    "        return f\"person('{self._name}',{self._age})\"\n",
    "\n",
    "\n",
    "p6 = Person(\"Boby\", 8)\n",
    "print(p6.age)"
   ]
  },
  {
   "cell_type": "code",
   "execution_count": 44,
   "metadata": {},
   "outputs": [
    {
     "ename": "AttributeError",
     "evalue": "property 'age' of 'Person' object has no setter",
     "output_type": "error",
     "traceback": [
      "\u001b[31m---------------------------------------------------------------------------\u001b[39m",
      "\u001b[31mAttributeError\u001b[39m                            Traceback (most recent call last)",
      "\u001b[36mCell\u001b[39m\u001b[36m \u001b[39m\u001b[32mIn[44]\u001b[39m\u001b[32m, line 2\u001b[39m\n\u001b[32m      1\u001b[39m \u001b[38;5;66;03m#ther is no setter \u001b[39;00m\n\u001b[32m----> \u001b[39m\u001b[32m2\u001b[39m \u001b[43mp6\u001b[49m\u001b[43m.\u001b[49m\u001b[43mage\u001b[49m = \u001b[32m5\u001b[39m\n",
      "\u001b[31mAttributeError\u001b[39m: property 'age' of 'Person' object has no setter"
     ]
    }
   ],
   "source": [
    "#ther is no setter \n",
    "p6.age = 5"
   ]
  },
  {
   "cell_type": "markdown",
   "metadata": {},
   "source": [
    "### implementing setter "
   ]
  },
  {
   "cell_type": "code",
   "execution_count": 3,
   "metadata": {},
   "outputs": [
    {
     "name": "stdout",
     "output_type": "stream",
     "text": [
      "age setter called\n",
      "age getter called\n",
      "8\n"
     ]
    }
   ],
   "source": [
    "class Person:\n",
    "    def __init__(self, name , age ):\n",
    "        self._name = name \n",
    "\n",
    "\n",
    "        if not (0 <= age < 125):\n",
    "              raise ValueError(\"Age most be between 0 - 124\")\n",
    "\n",
    "        self.age = age \n",
    "\n",
    "\n",
    "    # a decorator -it gives a function more functionslly \n",
    "    #make in into a proprity (getter end setter)\n",
    "    @property\n",
    "    def age (self):\n",
    "         print(\"age getter called\")\n",
    "         return self._age \n",
    "\n",
    "\n",
    "\n",
    "    @age.setter  \n",
    "    def age (self, value):\n",
    "         print(\"age setter called\")\n",
    "         self._age = value \n",
    "\n",
    "        \n",
    "     \n",
    "    def __repr__(self):\n",
    "        return f\"person('{self._name}',{self._age})\"\n",
    "\n",
    "\n",
    "p7= Person(\"Boby\", 8)\n",
    "print(p7.age)"
   ]
  },
  {
   "cell_type": "code",
   "execution_count": 4,
   "metadata": {},
   "outputs": [
    {
     "name": "stdout",
     "output_type": "stream",
     "text": [
      "age setter called\n"
     ]
    },
    {
     "data": {
      "text/plain": [
       "person('Boby',33)"
      ]
     },
     "execution_count": 4,
     "metadata": {},
     "output_type": "execute_result"
    }
   ],
   "source": [
    "p7.age = 33 \n",
    "p7"
   ]
  },
  {
   "cell_type": "markdown",
   "metadata": {},
   "source": [
    "# exercise \n",
    "\n",
    "- test them out, both getter and setter \n",
    "- extra : check the type also with instance()"
   ]
  },
  {
   "cell_type": "code",
   "execution_count": 5,
   "metadata": {},
   "outputs": [
    {
     "name": "stdout",
     "output_type": "stream",
     "text": [
      "age setter called\n"
     ]
    },
    {
     "data": {
      "text/plain": [
       "person('Boby',-5)"
      ]
     },
     "execution_count": 5,
     "metadata": {},
     "output_type": "execute_result"
    }
   ],
   "source": [
    "p7.age = -5 \n",
    "p7 "
   ]
  },
  {
   "cell_type": "markdown",
   "metadata": {},
   "source": [
    "# solution "
   ]
  },
  {
   "cell_type": "code",
   "execution_count": null,
   "metadata": {},
   "outputs": [],
   "source": []
  },
  {
   "cell_type": "code",
   "execution_count": 60,
   "metadata": {},
   "outputs": [
    {
     "data": {
      "text/plain": [
       "Employee(cicci, 199910199223, 20000,  sàljare ,2017)"
      ]
     },
     "execution_count": 60,
     "metadata": {},
     "output_type": "execute_result"
    }
   ],
   "source": [
    "class Employee:\n",
    "    def __init__  (self, name , salary, social_security_nr, role , employment_year ):\n",
    "        self.name = name \n",
    "        self.salary =salary \n",
    "        self._social_sicurity_nr = social_security_nr\n",
    "        self.role = role \n",
    "        self. employment_year = employment_year\n",
    "    \n",
    "    def increase_salary(self, value):\n",
    "        self.salary += value \n",
    "        \n",
    "    def __repr__(self):\n",
    "        return f\"Employee({self.name}, {self.salary}, {self._social_sicurity_nr}, {self.role },{self. employment_year})\"\n",
    "\n",
    "e1 = Employee(\"cicci\",  199910194223 , 20000 ,\" sàljare \", 2017)\n",
    "e1.increase_salary(5000)\n",
    "e1"
   ]
  },
  {
   "cell_type": "code",
   "execution_count": 53,
   "metadata": {},
   "outputs": [
    {
     "ename": "AttributeError",
     "evalue": "property 'salary' of 'Employee' object has no setter",
     "output_type": "error",
     "traceback": [
      "\u001b[31m---------------------------------------------------------------------------\u001b[39m",
      "\u001b[31mAttributeError\u001b[39m                            Traceback (most recent call last)",
      "\u001b[36mCell\u001b[39m\u001b[36m \u001b[39m\u001b[32mIn[53]\u001b[39m\u001b[32m, line 32\u001b[39m\n\u001b[32m     29\u001b[39m     \u001b[38;5;28;01mdef\u001b[39;00m\u001b[38;5;250m \u001b[39m\u001b[34m__repr__\u001b[39m(\u001b[38;5;28mself\u001b[39m):\n\u001b[32m     30\u001b[39m         \u001b[38;5;28;01mreturn\u001b[39;00m \u001b[33mf\u001b[39m\u001b[33m\"\u001b[39m\u001b[33mEmployee(\u001b[39m\u001b[38;5;132;01m{\u001b[39;00m\u001b[38;5;28mself\u001b[39m.name\u001b[38;5;132;01m}\u001b[39;00m\u001b[33m, \u001b[39m\u001b[38;5;132;01m{\u001b[39;00m\u001b[38;5;28mself\u001b[39m.salary\u001b[38;5;132;01m}\u001b[39;00m\u001b[33m, \u001b[39m\u001b[38;5;132;01m{\u001b[39;00m\u001b[38;5;28mself\u001b[39m._social_sicurity_nr\u001b[38;5;132;01m}\u001b[39;00m\u001b[33m, \u001b[39m\u001b[38;5;132;01m{\u001b[39;00m\u001b[38;5;28mself\u001b[39m.role\u001b[38;5;250m \u001b[39m\u001b[38;5;132;01m}\u001b[39;00m\u001b[33m,\u001b[39m\u001b[38;5;132;01m{\u001b[39;00m\u001b[38;5;28mself\u001b[39m.\u001b[38;5;250m \u001b[39memployment_year\u001b[38;5;132;01m}\u001b[39;00m\u001b[33m)\u001b[39m\u001b[33m\"\u001b[39m\n\u001b[32m---> \u001b[39m\u001b[32m32\u001b[39m e1 = \u001b[43mEmployee\u001b[49m\u001b[43m(\u001b[49m\u001b[33;43m\"\u001b[39;49m\u001b[33;43mcicci\u001b[39;49m\u001b[33;43m\"\u001b[39;49m\u001b[43m,\u001b[49m\u001b[43m  \u001b[49m\u001b[32;43m199910194223\u001b[39;49m\u001b[43m \u001b[49m\u001b[43m,\u001b[49m\u001b[43m \u001b[49m\u001b[43m-\u001b[49m\u001b[43m \u001b[49m\u001b[32;43m25000\u001b[39;49m\u001b[43m \u001b[49m\u001b[43m,\u001b[49m\u001b[33;43m\"\u001b[39;49m\u001b[33;43m sàljare \u001b[39;49m\u001b[33;43m\"\u001b[39;49m\u001b[43m,\u001b[49m\u001b[43m \u001b[49m\u001b[32;43m2017\u001b[39;49m\u001b[43m)\u001b[49m\n",
      "\u001b[36mCell\u001b[39m\u001b[36m \u001b[39m\u001b[32mIn[53]\u001b[39m\u001b[32m, line 12\u001b[39m, in \u001b[36mEmployee.__init__\u001b[39m\u001b[34m(self, name, salary, social_security_nr, role, employment_year)\u001b[39m\n\u001b[32m      2\u001b[39m \u001b[38;5;28;01mdef\u001b[39;00m\u001b[38;5;250m \u001b[39m\u001b[34m__init__\u001b[39m  (\n\u001b[32m      3\u001b[39m     \u001b[38;5;28mself\u001b[39m, \n\u001b[32m      4\u001b[39m     name:\u001b[38;5;28mstr\u001b[39m , \n\u001b[32m   (...)\u001b[39m\u001b[32m      8\u001b[39m     employment_year :\u001b[38;5;28mint\u001b[39m \n\u001b[32m      9\u001b[39m     ):\n\u001b[32m     11\u001b[39m     \u001b[38;5;28mself\u001b[39m.name = name \n\u001b[32m---> \u001b[39m\u001b[32m12\u001b[39m     \u001b[38;5;28;43mself\u001b[39;49m\u001b[43m.\u001b[49m\u001b[43msalary\u001b[49m =salary \n\u001b[32m     13\u001b[39m     \u001b[38;5;28mself\u001b[39m._social_sicurity_nr = social_security_nr\n\u001b[32m     14\u001b[39m     \u001b[38;5;28mself\u001b[39m.role = role \n",
      "\u001b[31mAttributeError\u001b[39m: property 'salary' of 'Employee' object has no setter"
     ]
    }
   ],
   "source": [
    "class Employee:\n",
    "\n",
    "    \"\"\"A class to hold employee information\n",
    "    Attributes:\n",
    "    -name (str): name of the persone \n",
    "    - social_security_nr (int)_ the socialsicurity nr of person in 12 numbers \n",
    "    _salary(int): saalry in SEK need to be larger the 0\n",
    "    ....\n",
    "    Method :\n",
    "     - increes_ saalry (value): increas the slary of the emplyee with value Sek\n",
    "\n",
    "     exemple usage \n",
    "     >>> \n",
    "    \n",
    "    \n",
    "    \"\"\"\n",
    "\n",
    "\n",
    "\n",
    "\n",
    "    def __init__  (\n",
    "        self, \n",
    "        name:str , \n",
    "        salary:int, \n",
    "        social_security_nr:int ,\n",
    "        role:str ,\n",
    "        employment_year :int \n",
    "        ):\n",
    "\n",
    "        self.name = name \n",
    "        self.salary =salary \n",
    "        self._social_sicurity_nr = social_security_nr\n",
    "        self.role = role \n",
    "        self. employment_year = employment_year\n",
    "    \n",
    "    @property\n",
    "    def salary (self):\n",
    "        return self._salary \n",
    "    \n",
    "    @salary.setter \n",
    "    def salry(self, value):\n",
    "        if value <=0 :\n",
    "            raise ValueError (f\"salary can't be negative, you inputted {value}\")\n",
    "        self._salary = value\n",
    "\n",
    "    def increase_sallary(self, value):\n",
    "        self.salary += value  \n",
    "\n",
    "    def __repr__(self):\n",
    "        return f\"Employee({self.name}, {self.salary}, {self._social_sicurity_nr}, {self.role },{self. employment_year})\"\n",
    "\n",
    "e1 = Employee(\"cicci\",  199910194223 , - 25000 ,\" sàljare \", 2017)\n"
   ]
  },
  {
   "cell_type": "code",
   "execution_count": null,
   "metadata": {},
   "outputs": [],
   "source": []
  }
 ],
 "metadata": {
  "kernelspec": {
   "display_name": "Python 3",
   "language": "python",
   "name": "python3"
  },
  "language_info": {
   "codemirror_mode": {
    "name": "ipython",
    "version": 3
   },
   "file_extension": ".py",
   "mimetype": "text/x-python",
   "name": "python",
   "nbconvert_exporter": "python",
   "pygments_lexer": "ipython3",
   "version": "3.12.10"
  }
 },
 "nbformat": 4,
 "nbformat_minor": 2
}
