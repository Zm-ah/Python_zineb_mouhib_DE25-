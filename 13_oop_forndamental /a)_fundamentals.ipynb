{
 "cells": [
  {
   "cell_type": "markdown",
   "metadata": {},
   "source": [
    "#### OOP FONDAMENTALS \n",
    "- objekt oriented programming "
   ]
  },
  {
   "cell_type": "code",
   "execution_count": 9,
   "metadata": {},
   "outputs": [
    {
     "name": "stdout",
     "output_type": "stream",
     "text": [
      "dunder init is runnign\n"
     ]
    },
    {
     "data": {
      "text/plain": [
       "'STI'"
      ]
     },
     "execution_count": 9,
     "metadata": {},
     "output_type": "execute_result"
    }
   ],
   "source": [
    "# defime a class with name admissione \n",
    "class Admission:\n",
    "\n",
    "     # \"dunder init\" - initializer - note 2 underscors before and after init \n",
    "     # this method will be run when you instantiate a instans from this class \n",
    "    def __init__(self, school, name, program = \"programming\"):\n",
    "        print(\"dunder init is runnign\")\n",
    "       # set the attribut to the values from the argument \n",
    "        self.school = school \n",
    "        self.name = name \n",
    "        self.program = program\n",
    "       # self.program = program\n",
    "# instantiate the instans person1 the \n",
    "person1 = Admission (\"STI\" , \"Cada \" )# constroctor \n",
    "\n",
    "person1.school \n",
    "\n"
   ]
  },
  {
   "cell_type": "code",
   "execution_count": 10,
   "metadata": {},
   "outputs": [
    {
     "data": {
      "text/plain": [
       "'programming'"
      ]
     },
     "execution_count": 10,
     "metadata": {},
     "output_type": "execute_result"
    }
   ],
   "source": [
    "person1.program"
   ]
  },
  {
   "cell_type": "code",
   "execution_count": 11,
   "metadata": {},
   "outputs": [
    {
     "name": "stdout",
     "output_type": "stream",
     "text": [
      "dunder init is runnign\n"
     ]
    },
    {
     "data": {
      "text/plain": [
       "'Java'"
      ]
     },
     "execution_count": 11,
     "metadata": {},
     "output_type": "execute_result"
    }
   ],
   "source": [
    "person2 = Admission (name = \"Jhonny \", school = \"cool school\" , program = \"Java\")\n",
    "\n",
    "person2.program "
   ]
  },
  {
   "cell_type": "markdown",
   "metadata": {},
   "source": [
    "## note on memory \n",
    "by defaulting the __repr__ of an instans is showing the memory address of wher the instance live \n",
    "- each instance oif the class lives in diferent memory adresses \n",
    " - they are different objekts "
   ]
  },
  {
   "cell_type": "code",
   "execution_count": 12,
   "metadata": {},
   "outputs": [
    {
     "data": {
      "text/plain": [
       "(<__main__.Admission at 0x10c5e1460>, <__main__.Admission at 0x10c5e11c0>)"
      ]
     },
     "execution_count": 12,
     "metadata": {},
     "output_type": "execute_result"
    }
   ],
   "source": [
    "person1 , person2"
   ]
  },
  {
   "cell_type": "code",
   "execution_count": 14,
   "metadata": {},
   "outputs": [
    {
     "name": "stdout",
     "output_type": "stream",
     "text": [
      "dunder init is runnign\n"
     ]
    },
    {
     "data": {
      "text/plain": [
       "<__main__.Admission at 0x10c48a390>"
      ]
     },
     "execution_count": 14,
     "metadata": {},
     "output_type": "execute_result"
    }
   ],
   "source": [
    "person3 = Admission(name =\"Johnny\", school = \"sti\", program =\"Python\")\n",
    "person3\n"
   ]
  },
  {
   "cell_type": "markdown",
   "metadata": {},
   "source": [
    "## implement class student "
   ]
  },
  {
   "cell_type": "code",
   "execution_count": 17,
   "metadata": {},
   "outputs": [
    {
     "data": {
      "text/plain": [
       "('lisa', True)"
      ]
     },
     "execution_count": 17,
     "metadata": {},
     "output_type": "execute_result"
    }
   ],
   "source": [
    "class student: \n",
    "    def __init__(self, name, study , school , age , pass_ = True):\n",
    "        self.name = name \n",
    "        self.study = study \n",
    "        self.school = school \n",
    "        self.age = age \n",
    "        self.pass_= True \n",
    "    \n",
    "    def studys(self):\n",
    "        print(f\"{self.name} studies {self.study}\")\n",
    "              \n",
    "\n",
    "student1 = student(name = \"zineb\", study =\"programming\", school =  \"STI\", age =\"33\", pass_ = \" True \")\n",
    " \n",
    "student2 = student( name = \"lisa\",study = \"programing\", school = \" STI\",age = \"25\" , pass_ = \"True\")\n",
    "student2.name ,student1.pass_              "
   ]
  },
  {
   "cell_type": "code",
   "execution_count": 18,
   "metadata": {},
   "outputs": [
    {
     "name": "stdout",
     "output_type": "stream",
     "text": [
      "zineb studies programming\n"
     ]
    }
   ],
   "source": [
    "student1.studys()"
   ]
  },
  {
   "cell_type": "code",
   "execution_count": 21,
   "metadata": {},
   "outputs": [
    {
     "name": "stdout",
     "output_type": "stream",
     "text": [
      "lisa studies programing\n"
     ]
    },
    {
     "data": {
      "text/plain": [
       "NoneType"
      ]
     },
     "execution_count": 21,
     "metadata": {},
     "output_type": "execute_result"
    }
   ],
   "source": [
    "type(student2.studys())"
   ]
  },
  {
   "cell_type": "markdown",
   "metadata": {},
   "source": [
    "##  __repr__ -dunder repper method \n",
    "- method to represent your class to other developers \n",
    "- usualy: describe how to create an instance from this class \n",
    "- by defolt we get e.g <main.student at0x10blblblblb>"
   ]
  },
  {
   "cell_type": "code",
   "execution_count": 22,
   "metadata": {},
   "outputs": [
    {
     "data": {
      "text/plain": [
       "<__main__.student at 0x10c5b4470>"
      ]
     },
     "execution_count": 22,
     "metadata": {},
     "output_type": "execute_result"
    }
   ],
   "source": [
    "student1"
   ]
  },
  {
   "cell_type": "code",
   "execution_count": 37,
   "metadata": {},
   "outputs": [
    {
     "data": {
      "text/plain": [
       "student lisa study programing at  STI, at age of 25 passed the exam True"
      ]
     },
     "execution_count": 37,
     "metadata": {},
     "output_type": "execute_result"
    }
   ],
   "source": [
    "#define a clas s with name admission \n",
    "class student: \n",
    "    # \"dunder init\" _ initializer _ note 2 underscores before and after init \n",
    "    # this method will be run when yoi instantiete a instance from thids klass. \n",
    "\n",
    "    def __init__(self, name, study , school , age , pass_ = True):\n",
    "       \n",
    "       \n",
    "        self.name = name \n",
    "        self.study = study \n",
    "        self.school = school \n",
    "        self.age = age \n",
    "        self.pass_= True \n",
    "    \n",
    "   \n",
    "    # method \n",
    "    def studys(self):\n",
    "        print(f\"{self.name} studies {self.study}\")\n",
    "\n",
    "\n",
    "    def __repr__(self):\n",
    "          # sutdent (name =\"bobbo\", study =\"economics\", \n",
    "          # school = \"STI\" age = 31, pass_= fales)\n",
    "\n",
    "        return f\"student {self.name} study {self.study} at {self.school}, at age of {self.age} passed the exam {self.pass_}\"\n",
    "       \n",
    "\n",
    "\n",
    "student1 = student(\n",
    "    name = \"zineb\", \n",
    "    study =\"programmin\", \n",
    "    school =  \"STI\", \n",
    "    age =\"33\", \n",
    "    pass_ = \" True \")\n",
    " \n",
    "student2 = student( \n",
    "    name = \"lisa\",\n",
    "    study = \"programing\",\n",
    "    school = \" STI\",\n",
    "    age = \"25\" , \n",
    "    pass_ = \"True\")\n",
    "\n",
    "\n",
    "student3 =student (\n",
    "    name = \"bobbo\",\n",
    "    study = \"economi\",\n",
    "    school = \" STI\",\n",
    "    age = \"20\" , \n",
    "    pass_ = \"false\")\n",
    "\n",
    "\n",
    "\n",
    "student2\n",
    "\n",
    "               "
   ]
  },
  {
   "cell_type": "code",
   "execution_count": 26,
   "metadata": {},
   "outputs": [
    {
     "data": {
      "text/plain": [
       "\"Student(name='Babba', type_of_studies='economics', school='Cool school', age=31, passed=False)\""
      ]
     },
     "execution_count": 26,
     "metadata": {},
     "output_type": "execute_result"
    }
   ],
   "source": [
    "student3.__repr__()"
   ]
  },
  {
   "cell_type": "code",
   "execution_count": 27,
   "metadata": {},
   "outputs": [
    {
     "data": {
      "text/plain": [
       "\"Student(name='Babba', type_of_studies='economics', school='Cool school', age=31, passed=False)\""
      ]
     },
     "execution_count": 27,
     "metadata": {},
     "output_type": "execute_result"
    }
   ],
   "source": [
    "repr(student3)"
   ]
  },
  {
   "cell_type": "code",
   "execution_count": 38,
   "metadata": {},
   "outputs": [
    {
     "name": "stdout",
     "output_type": "stream",
     "text": [
      "bobbo studies economi\n"
     ]
    }
   ],
   "source": [
    "student3.studys()"
   ]
  }
 ],
 "metadata": {
  "kernelspec": {
   "display_name": "Python 3",
   "language": "python",
   "name": "python3"
  },
  "language_info": {
   "codemirror_mode": {
    "name": "ipython",
    "version": 3
   },
   "file_extension": ".py",
   "mimetype": "text/x-python",
   "name": "python",
   "nbconvert_exporter": "python",
   "pygments_lexer": "ipython3",
   "version": "3.12.10"
  }
 },
 "nbformat": 4,
 "nbformat_minor": 2
}
