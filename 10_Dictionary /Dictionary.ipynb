{
 "cells": [
  {
   "cell_type": "markdown",
   "metadata": {},
   "source": [
    "# Dictionary \n",
    "- also a collection dta type \n",
    "- the dara is stored in Key-value pairs \n"
   ]
  },
  {
   "cell_type": "markdown",
   "metadata": {},
   "source": [
    "##Creat a dictionary with dict( class )"
   ]
  },
  {
   "cell_type": "code",
   "execution_count": 1,
   "metadata": {},
   "outputs": [],
   "source": [
    "# instantiate a dictionary objekt called person\n",
    "person = dict(\n",
    "    name =\"zineb\",\n",
    "    age = 33.2,\n",
    "    work = \" DE \"\n",
    ") \n"
   ]
  },
  {
   "cell_type": "code",
   "execution_count": 3,
   "metadata": {},
   "outputs": [
    {
     "name": "stdout",
     "output_type": "stream",
     "text": [
      "zineb\n",
      "work\n"
     ]
    }
   ],
   "source": [
    "# retrieve data from this dictionary \n",
    "# make use of the key for each value \n",
    "print(person['name']) # compare ti indexing in a list like list_a[0]\n",
    "print('work')"
   ]
  },
  {
   "cell_type": "markdown",
   "metadata": {},
   "source": [
    "### Creat a dictionary with {}"
   ]
  },
  {
   "cell_type": "code",
   "execution_count": 12,
   "metadata": {},
   "outputs": [
    {
     "name": "stdout",
     "output_type": "stream",
     "text": [
      "zineb\n",
      "DE \n"
     ]
    }
   ],
   "source": [
    "person = {\n",
    "    \"name\" : \"zineb\",\n",
    "    \"age\" : 33.2,\n",
    "    \"work\": \"DE \", \n",
    "    \"interest\": [\"mat\",\"python\",\"yoga\"], # the value in one key_value ca be another colection data type \n",
    "    \"adress\":{\"country\": \" Sweden\",\"city\": \" Stockholm\"}\n",
    "}\n",
    "print(person[\"name\"])\n",
    "print(person[\"work\"])"
   ]
  },
  {
   "cell_type": "code",
   "execution_count": 13,
   "metadata": {},
   "outputs": [
    {
     "name": "stdout",
     "output_type": "stream",
     "text": [
      "['mat', 'python', 'yoga']\n",
      "{'country': ' Sweden', 'city': ' Stockholm'}\n"
     ]
    }
   ],
   "source": [
    "print(person[\"interest\"])\n",
    "print(person[\"adress\"])\n"
   ]
  },
  {
   "cell_type": "code",
   "execution_count": 14,
   "metadata": {},
   "outputs": [
    {
     "name": "stdout",
     "output_type": "stream",
     "text": [
      "mat\n",
      " Sweden\n"
     ]
    }
   ],
   "source": [
    "# only print one interest \n",
    "print(person[\"interest\"][0])\n",
    "\n",
    "\n",
    "\n",
    "print(person[\"adress\"][\"country\"])"
   ]
  },
  {
   "cell_type": "markdown",
   "metadata": {},
   "source": [
    "### iterare over a dictionary \n"
   ]
  },
  {
   "cell_type": "code",
   "execution_count": 15,
   "metadata": {},
   "outputs": [],
   "source": [
    "words ={\n",
    "    \"data structur\": \"means of storing data\",\n",
    "    \"regression\" :\" a funktion to best fit the data\",\n",
    "    \"method\" : \" a funktion bound to an objekt\"\n",
    "}"
   ]
  },
  {
   "cell_type": "code",
   "execution_count": 16,
   "metadata": {},
   "outputs": [
    {
     "name": "stdout",
     "output_type": "stream",
     "text": [
      "key:data structur\n",
      "value:means of storing data\n",
      "------\n",
      "key:regression\n",
      "value: a funktion to best fit the data\n",
      "------\n",
      "key:method\n",
      "value: a funktion bound to an objekt\n",
      "------\n"
     ]
    }
   ],
   "source": [
    "# iterative over both keys and values \n",
    "for key,value in words.items():\n",
    "    print(f\"key:{key}\")\n",
    "    print(f\"value:{value}\")\n",
    "    print(\"------\")"
   ]
  },
  {
   "cell_type": "code",
   "execution_count": 17,
   "metadata": {},
   "outputs": [
    {
     "name": "stdout",
     "output_type": "stream",
     "text": [
      "key_data structur\n",
      "--------\n",
      "key_regression\n",
      "--------\n",
      "key_method\n",
      "--------\n"
     ]
    }
   ],
   "source": [
    "# iteraktive over keya \n",
    "for key in words.keys():\n",
    "    print(f\"key_{key}\")\n",
    "    print(\"--------\")"
   ]
  },
  {
   "cell_type": "markdown",
   "metadata": {},
   "source": [
    "##### Dictionary comprehension "
   ]
  },
  {
   "cell_type": "code",
   "execution_count": 19,
   "metadata": {},
   "outputs": [
    {
     "data": {
      "text/plain": [
       "{'F': 0, 'E': 10, 'D': 20, 'C': 30, 'B': 40, 'A': 50}"
      ]
     },
     "execution_count": 19,
     "metadata": {},
     "output_type": "execute_result"
    }
   ],
   "source": [
    "# we wnt to produce a dictionary called grade_limit \n",
    "# create this dictionary from scratch \n",
    "\n",
    "grade_limit = {\n",
    "    \"F\" : 0,\n",
    "    \"E\" : 10, \n",
    "    \"D\" : 20,\n",
    "    \"C\" : 30,\n",
    "    \"B\" : 40,\n",
    "    \"A\" : 50,\n",
    "    }\n",
    "\n",
    "grade_limit "
   ]
  },
  {
   "cell_type": "code",
   "execution_count": 21,
   "metadata": {},
   "outputs": [
    {
     "name": "stdout",
     "output_type": "stream",
     "text": [
      "0\n",
      "F\n",
      "1\n",
      "E\n",
      "2\n",
      "D\n",
      "3\n",
      "C\n",
      "4\n",
      "B\n",
      "5\n",
      "A\n"
     ]
    },
    {
     "data": {
      "text/plain": [
       "{'F': 0, 'E': 10, 'D': 20, 'C': 30, 'B': 40, 'A': 50}"
      ]
     },
     "execution_count": 21,
     "metadata": {},
     "output_type": "execute_result"
    }
   ],
   "source": [
    "# create the same dictionary but with dictionary comprehention \n",
    "# check out the loop that will be used inside dictionary comprehention \n",
    "\n",
    "for i, grade in enumerate(\"FEDCBA\"):\n",
    "    print(i)\n",
    "    print(grade)\n",
    "\n",
    "# create the dictionary now \n",
    "\n",
    "grade_limir = {grade:i*10 for i, grade in enumerate(\"FEDCBA\")}\n",
    "grade_limit "
   ]
  }
 ],
 "metadata": {
  "kernelspec": {
   "display_name": "Python 3",
   "language": "python",
   "name": "python3"
  },
  "language_info": {
   "codemirror_mode": {
    "name": "ipython",
    "version": 3
   },
   "file_extension": ".py",
   "mimetype": "text/x-python",
   "name": "python",
   "nbconvert_exporter": "python",
   "pygments_lexer": "ipython3",
   "version": "3.12.10"
  }
 },
 "nbformat": 4,
 "nbformat_minor": 2
}
