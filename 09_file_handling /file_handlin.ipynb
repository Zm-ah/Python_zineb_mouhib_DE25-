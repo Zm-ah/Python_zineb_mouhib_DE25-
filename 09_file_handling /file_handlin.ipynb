{
 "cells": [
  {
   "cell_type": "markdown",
   "metadata": {},
   "source": [
    "# lekture 9 - file Handling \n",
    "- "
   ]
  },
  {
   "cell_type": "markdown",
   "metadata": {},
   "source": [
    "## Read file \n"
   ]
  },
  {
   "cell_type": "markdown",
   "metadata": {},
   "source": [
    "#### open the file directly "
   ]
  },
  {
   "cell_type": "code",
   "execution_count": 5,
   "metadata": {},
   "outputs": [
    {
     "name": "stdout",
     "output_type": "stream",
     "text": [
      "<_io.TextIOWrapper name='test.txt' mode='r' encoding='utf-8'>\n",
      "hhhhhhhh\n",
      "hhhhhhhh\n",
      "jjjjjjjj\n"
     ]
    }
   ],
   "source": [
    "# open the file \n",
    "# the second argument is tne mode of opening (r is read-only)\n",
    "f = open(\"test.txt\",\"r\") # the first argument is a path!\n",
    "print (f)\n",
    "# save the contens of the file in the variable \n",
    "text = f.read()\n",
    "print(text)\n",
    "\n",
    "# close the file \n"
   ]
  },
  {
   "cell_type": "markdown",
   "metadata": {},
   "source": [
    "open the file with with statment \n"
   ]
  },
  {
   "cell_type": "code",
   "execution_count": 6,
   "metadata": {},
   "outputs": [
    {
     "name": "stdout",
     "output_type": "stream",
     "text": [
      "hhhhhhhh\n",
      "hhhhhhhh\n",
      "jjjjjjjj\n"
     ]
    }
   ],
   "source": [
    "with open (\"test.txt\",\"r\") as f:\n",
    "    text = f.read()\n",
    "    # with statment will close the file automatically \n",
    "print(text)    "
   ]
  }
 ],
 "metadata": {
  "kernelspec": {
   "display_name": "Python 3",
   "language": "python",
   "name": "python3"
  },
  "language_info": {
   "codemirror_mode": {
    "name": "ipython",
    "version": 3
   },
   "file_extension": ".py",
   "mimetype": "text/x-python",
   "name": "python",
   "nbconvert_exporter": "python",
   "pygments_lexer": "ipython3",
   "version": "3.12.10"
  }
 },
 "nbformat": 4,
 "nbformat_minor": 2
}
