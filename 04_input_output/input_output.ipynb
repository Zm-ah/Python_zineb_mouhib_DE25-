{
 "cells": [
  {
   "cell_type": "markdown",
   "metadata": {},
   "source": [
    "# lekture 4 -input, output & variables "
   ]
  },
  {
   "cell_type": "markdown",
   "metadata": {},
   "source": [
    "# print statment "
   ]
  },
  {
   "cell_type": "markdown",
   "metadata": {},
   "source": [
    "#### To print out a sring "
   ]
  },
  {
   "cell_type": "code",
   "execution_count": 8,
   "metadata": {},
   "outputs": [
    {
     "name": "stdout",
     "output_type": "stream",
     "text": [
      "hello zineb !!\n"
     ]
    }
   ],
   "source": [
    "# you can use hashtag to komment out lines to code \n",
    "print(\"hello zineb !!\")"
   ]
  },
  {
   "cell_type": "markdown",
   "metadata": {},
   "source": [
    "To print out string and variables "
   ]
  },
  {
   "cell_type": "code",
   "execution_count": 9,
   "metadata": {},
   "outputs": [
    {
     "name": "stdout",
     "output_type": "stream",
     "text": [
      "Hello Zineb!! \n"
     ]
    }
   ],
   "source": [
    "# create a name variables \n",
    "name = \"Zineb\"\n",
    "\n",
    "# print out hello to this persone \n",
    "# when printing string and variables toghether, we can use f-string \n",
    "#f-string is used to combine string and variables together\n",
    "# make note the symbole : f, {} to combine to  different variable \n",
    "print(f\"Hello {name}!! \")"
   ]
  },
  {
   "cell_type": "markdown",
   "metadata": {},
   "source": [
    "## Variables \n",
    "- you cas store data in the variable --> assagnement value to variable.\n",
    "- we can use the data by refering to teh variable instead\n",
    "- In lectur 04, we are seeing variables storing one value, even though the vaue can be of different typs \n",
    "- in lectur 6, we will see that we can store a collectione of values ( list , tuple , sets ... )"
   ]
  },
  {
   "cell_type": "code",
   "execution_count": 19,
   "metadata": {},
   "outputs": [],
   "source": [
    "# string \n",
    "first_name = \"Zineb\"\n",
    "\n",
    "# integer \n",
    "height = 169\n",
    "\n",
    "#float, number with decimal places \n",
    "exact_height = 169,5 "
   ]
  },
  {
   "cell_type": "markdown",
   "metadata": {},
   "source": [
    "##### print out a message using all these variables with different data types"
   ]
  },
  {
   "cell_type": "code",
   "execution_count": 17,
   "metadata": {},
   "outputs": [
    {
     "name": "stdout",
     "output_type": "stream",
     "text": [
      "The lady's name is Zineb. Her heigt is 169cm, or mor specifically (169, 5)cm \n"
     ]
    }
   ],
   "source": [
    "print (f\"The lady's name is {first_name}. Her heigt is {height}cm, or mor specifically {exact_height}cm \")"
   ]
  },
  {
   "cell_type": "markdown",
   "metadata": {},
   "source": [
    "##### format in f-string \n",
    "- is does not create another variable \n",
    "- it just affects how the current variable is displayed in f- string "
   ]
  },
  {
   "cell_type": "code",
   "execution_count": 25,
   "metadata": {},
   "outputs": [
    {
     "name": "stdout",
     "output_type": "stream",
     "text": [
      "the exact height is 169.0cm\n"
     ]
    }
   ],
   "source": [
    "# use : to separate the variable and the choice of format \n",
    "# .1f means after teh integer, keep one decimale place (f refer to fixed point number)\n",
    "print (f\"the exact height is {exact_height[0]:.1f}cm\") \n"
   ]
  },
  {
   "cell_type": "markdown",
   "metadata": {},
   "source": [
    "### One Aadditional data type , boolean (bool)"
   ]
  },
  {
   "cell_type": "code",
   "execution_count": null,
   "metadata": {},
   "outputs": [],
   "source": [
    "# stri\n",
    "name = \"zineb\"\n",
    "\n",
    "# int \n",
    "height = 169 \n",
    "\n",
    "#float \n",
    "exact_height = 169,5\n",
    "\n",
    "#bool \n",
    "\n",
    "is_lady = True # allternativly , we cab put a fals for a boolean value \n",
    "\n"
   ]
  },
  {
   "cell_type": "markdown",
   "metadata": {},
   "source": [
    "## input from users "
   ]
  },
  {
   "cell_type": "markdown",
   "metadata": {},
   "source": [
    "- How to code so that the value of the variable is decided after i run the code ?\n"
   ]
  },
  {
   "cell_type": "markdown",
   "metadata": {},
   "source": [
    "#### exemple 1"
   ]
  },
  {
   "cell_type": "code",
   "execution_count": 34,
   "metadata": {},
   "outputs": [],
   "source": [
    "# ceate a name variable asking for user input \n",
    "# optionally , you can add an argument in the ()input \n",
    "namen = input(\"what is you name\")"
   ]
  },
  {
   "cell_type": "code",
   "execution_count": 27,
   "metadata": {},
   "outputs": [
    {
     "name": "stdout",
     "output_type": "stream",
     "text": [
      "Hello Zineb\n"
     ]
    }
   ],
   "source": [
    "# print a out a f.string \n",
    "print (f\"Hello { name }\")"
   ]
  },
  {
   "cell_type": "code",
   "execution_count": 28,
   "metadata": {},
   "outputs": [
    {
     "data": {
      "text/plain": [
       "str"
      ]
     },
     "execution_count": 28,
     "metadata": {},
     "output_type": "execute_result"
    }
   ],
   "source": [
    "# check the data type of a variable \n",
    "type(name)"
   ]
  },
  {
   "cell_type": "markdown",
   "metadata": {},
   "source": [
    "#### exemple 2 - age variable \n",
    "- compare this with exemple 1, you can see that input ()function always return string variable. \n"
   ]
  },
  {
   "cell_type": "code",
   "execution_count": 44,
   "metadata": {},
   "outputs": [],
   "source": [
    "age = input( \"what is your age?\")"
   ]
  },
  {
   "cell_type": "code",
   "execution_count": 39,
   "metadata": {},
   "outputs": [
    {
     "data": {
      "text/plain": [
       "str"
      ]
     },
     "execution_count": 39,
     "metadata": {},
     "output_type": "execute_result"
    }
   ],
   "source": [
    "type(age)"
   ]
  },
  {
   "cell_type": "markdown",
   "metadata": {},
   "source": [
    "## Type coercions \n",
    "- cinverting data types from one to other\n",
    "- applies on variabe in general, not just when using input() function "
   ]
  },
  {
   "cell_type": "code",
   "execution_count": 46,
   "metadata": {},
   "outputs": [
    {
     "name": "stdout",
     "output_type": "stream",
     "text": [
      "<class 'str'>\n",
      "33\n"
     ]
    }
   ],
   "source": [
    "# dubbel check the data typ for the existing age variable \n",
    "\n",
    "# as by default,  .ipybn file cell only shows output frome the last line of code. therfore, you cane use print()to force it to print out the athor lines\n",
    "print(type (age))\n",
    "#compare the follow tow lines, they show print() function is not showing the exact value of this variable.\n",
    "print (age)"
   ]
  },
  {
   "cell_type": "code",
   "execution_count": null,
   "metadata": {},
   "outputs": [],
   "source": []
  },
  {
   "cell_type": "code",
   "execution_count": 47,
   "metadata": {},
   "outputs": [
    {
     "data": {
      "text/plain": [
       "int"
      ]
     },
     "execution_count": 47,
     "metadata": {},
     "output_type": "execute_result"
    }
   ],
   "source": [
    "# convert to int and create a now varialbe fot this \n",
    "\n",
    "age_integer = int(age)\n",
    "\n",
    "# check the result data typing for the age_int, the variable after type coercion \n",
    "type(age_integer)"
   ]
  },
  {
   "cell_type": "code",
   "execution_count": 48,
   "metadata": {},
   "outputs": [
    {
     "data": {
      "text/plain": [
       "int"
      ]
     },
     "execution_count": 48,
     "metadata": {},
     "output_type": "execute_result"
    }
   ],
   "source": [
    "age = int(age)\n",
    "\n",
    "type(age)\n"
   ]
  }
 ],
 "metadata": {
  "kernelspec": {
   "display_name": "Python 3",
   "language": "python",
   "name": "python3"
  },
  "language_info": {
   "codemirror_mode": {
    "name": "ipython",
    "version": 3
   },
   "file_extension": ".py",
   "mimetype": "text/x-python",
   "name": "python",
   "nbconvert_exporter": "python",
   "pygments_lexer": "ipython3",
   "version": "3.12.10"
  }
 },
 "nbformat": 4,
 "nbformat_minor": 2
}
