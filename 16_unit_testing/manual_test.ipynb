{
 "cells": [
  {
   "cell_type": "markdown",
   "id": "0401fea0",
   "metadata": {},
   "source": [
    "# Manual Testing of Vector class "
   ]
  },
  {
   "cell_type": "code",
   "execution_count": 1,
   "id": "3d6f2673",
   "metadata": {},
   "outputs": [
    {
     "data": {
      "text/plain": [
       "(Vector(2.0, 5.0), Vector(-1.0, 1.0))"
      ]
     },
     "execution_count": 1,
     "metadata": {},
     "output_type": "execute_result"
    }
   ],
   "source": [
    "from vector import Vector \n",
    "\n",
    "\n",
    "# vector whid coordinate 2 - 5 \n",
    "v1 = Vector(2,5)\n",
    "v2 = Vector(-1,1)\n",
    "v1 ,v2 "
   ]
  },
  {
   "cell_type": "markdown",
   "id": "3f99a675",
   "metadata": {},
   "source": [
    "## A few test that we expecte will work "
   ]
  },
  {
   "cell_type": "code",
   "execution_count": 2,
   "id": "d31c0f73",
   "metadata": {},
   "outputs": [
    {
     "name": "stdout",
     "output_type": "stream",
     "text": [
      "len(v1) = 2\n",
      "v1.numbers = (2.0, 5.0)\n",
      "v1 + v2 = Vector(1.0, 6.0)\n"
     ]
    }
   ],
   "source": [
    "print(f\"{len(v1) = }\")\n",
    "print(f\"{v1.numbers = }\")\n",
    "print(f\"{v1 + v2 = }\")\n"
   ]
  },
  {
   "cell_type": "markdown",
   "id": "d6c5c3dd",
   "metadata": {},
   "source": [
    "## testing correct errors "
   ]
  },
  {
   "cell_type": "code",
   "execution_count": 3,
   "id": "b3d6afae",
   "metadata": {},
   "outputs": [
    {
     "name": "stdout",
     "output_type": "stream",
     "text": [
      "'1' is not valid number in a vector\n"
     ]
    }
   ],
   "source": [
    "try:\n",
    "    Vector (\"1\", 1)\n",
    "except TypeError as err:\n",
    "    print(err)\n"
   ]
  },
  {
   "cell_type": "code",
   "execution_count": 4,
   "id": "de98dc6f",
   "metadata": {},
   "outputs": [
    {
     "name": "stdout",
     "output_type": "stream",
     "text": [
      "Both must be Vector and have the same length\n"
     ]
    }
   ],
   "source": [
    "v1 = Vector(1,2)\n",
    "v2 = Vector(1,2,3)\n",
    "try:\n",
    "    v1 + v2\n",
    "except TypeError as err:\n",
    "    print(err)\n",
    "    "
   ]
  },
  {
   "cell_type": "code",
   "execution_count": 5,
   "id": "e03143d8",
   "metadata": {},
   "outputs": [
    {
     "data": {
      "text/plain": [
       "\"'1'\""
      ]
     },
     "execution_count": 5,
     "metadata": {},
     "output_type": "execute_result"
    }
   ],
   "source": [
    "repr(\"1\")"
   ]
  },
  {
   "cell_type": "markdown",
   "id": "991296db",
   "metadata": {},
   "source": [
    "#### Assert will be used automatical testing "
   ]
  },
  {
   "cell_type": "code",
   "execution_count": null,
   "id": "05206b2b",
   "metadata": {},
   "outputs": [],
   "source": [
    "x = 5 \n",
    "assert x == 5 "
   ]
  },
  {
   "cell_type": "code",
   "execution_count": 6,
   "id": "23376b92",
   "metadata": {},
   "outputs": [
    {
     "ename": "NameError",
     "evalue": "name 'x' is not defined",
     "output_type": "error",
     "traceback": [
      "\u001b[31m---------------------------------------------------------------------------\u001b[39m",
      "\u001b[31mNameError\u001b[39m                                 Traceback (most recent call last)",
      "\u001b[36mCell\u001b[39m\u001b[36m \u001b[39m\u001b[32mIn[6]\u001b[39m\u001b[32m, line 1\u001b[39m\n\u001b[32m----> \u001b[39m\u001b[32m1\u001b[39m \u001b[38;5;28;01massert\u001b[39;00m \u001b[43mx\u001b[49m == \u001b[32m4\u001b[39m \n",
      "\u001b[31mNameError\u001b[39m: name 'x' is not defined"
     ]
    }
   ],
   "source": [
    "assert x == 4 "
   ]
  }
 ],
 "metadata": {
  "kernelspec": {
   "display_name": "Python_zineb_mouhib_DE25- (3.12.10)",
   "language": "python",
   "name": "python3"
  },
  "language_info": {
   "codemirror_mode": {
    "name": "ipython",
    "version": 3
   },
   "file_extension": ".py",
   "mimetype": "text/x-python",
   "name": "python",
   "nbconvert_exporter": "python",
   "pygments_lexer": "ipython3",
   "version": "3.12.10"
  }
 },
 "nbformat": 4,
 "nbformat_minor": 5
}
