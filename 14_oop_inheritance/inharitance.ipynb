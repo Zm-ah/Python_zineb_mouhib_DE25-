{
 "cells": [
  {
   "cell_type": "markdown",
   "metadata": {},
   "source": [
    "# Inheritance "
   ]
  },
  {
   "cell_type": "code",
   "execution_count": 2,
   "metadata": {},
   "outputs": [
    {
     "name": "stdout",
     "output_type": "stream",
     "text": [
      "property 'name' of 'Person' object has no setter\n",
      "orjan\n",
      "orjan says hi!\n"
     ]
    }
   ],
   "source": [
    "\n",
    "class Person:\n",
    "    def __init__(self, name: str , age: int ):\n",
    "        self._name = name\n",
    "        self.age = age\n",
    "    \n",
    "    \n",
    "    @property\n",
    "    def name (self):\n",
    "        return self._name\n",
    "    \n",
    "    @property\n",
    "    def age (self):\n",
    "        return self._age \n",
    "    @age.setter \n",
    "    def age (self, value: int):\n",
    "        if not isinstance (value, int):\n",
    "            raise TypeError(f\"age must be an integer, int not {type(value)}\")\n",
    "    \n",
    "\n",
    "        if value < 0 or value >124:\n",
    "            raise ValueError(f\"age must be between 0 and 123, not{value}\")\n",
    "        self._age = value \n",
    "    \n",
    "    def say_hi(self):\n",
    "        print(f\"{self.name} says hi!\")\n",
    "\n",
    "\n",
    "\n",
    "p1 = Person(\"orjan\", 25)\n",
    "\n",
    "try:\n",
    "    p1.name = \"mark\"\n",
    "except AttributeError as err:\n",
    "    print(err)\n",
    "\n",
    "print(p1.name)  \n",
    "p1.say_hi()  \n",
    "      \n",
    "\n",
    "\n",
    "\n"
   ]
  },
  {
   "cell_type": "code",
   "execution_count": 3,
   "metadata": {},
   "outputs": [
    {
     "name": "stdout",
     "output_type": "stream",
     "text": [
      "age must be between 0 and 123, not-5\n",
      "age must be an integer, int not <class 'str'>\n"
     ]
    }
   ],
   "source": [
    "try:\n",
    "    p2 = Person(\"alice\", age = -5 )\n",
    "\n",
    "except ValueError as err:\n",
    "    print(err)\n",
    "\n",
    "try:\n",
    "    p3 = Person(\"doddo\", age = \"femtio\")\n",
    "except TypeError as err:\n",
    "    print(err)\n"
   ]
  },
  {
   "cell_type": "markdown",
   "metadata": {},
   "source": [
    "# implement student \n"
   ]
  },
  {
   "cell_type": "code",
   "execution_count": 4,
   "metadata": {},
   "outputs": [
    {
     "ename": "ValueError",
     "evalue": "age must be between 0 and 123, not125",
     "output_type": "error",
     "traceback": [
      "\u001b[31m---------------------------------------------------------------------------\u001b[39m",
      "\u001b[31mValueError\u001b[39m                                Traceback (most recent call last)",
      "\u001b[36mCell\u001b[39m\u001b[36m \u001b[39m\u001b[32mIn[4]\u001b[39m\u001b[32m, line 8\u001b[39m\n\u001b[32m      4\u001b[39m         \u001b[38;5;28msuper\u001b[39m().\u001b[34m__init__\u001b[39m(name ,age)\n\u001b[32m      5\u001b[39m         \u001b[38;5;28mself\u001b[39m.language = language \n\u001b[32m----> \u001b[39m\u001b[32m8\u001b[39m s1 = \u001b[43mstudent\u001b[49m\u001b[43m \u001b[49m\u001b[43m(\u001b[49m\u001b[33;43m\"\u001b[39;49m\u001b[33;43mbjòrn\u001b[39;49m\u001b[33;43m\"\u001b[39;49m\u001b[43m,\u001b[49m\u001b[43m \u001b[49m\u001b[32;43m125\u001b[39;49m\u001b[43m,\u001b[49m\u001b[43m \u001b[49m\u001b[43mlanguage\u001b[49m\u001b[43m \u001b[49m\u001b[43m=\u001b[49m\u001b[43m \u001b[49m\u001b[33;43m\"\u001b[39;49m\u001b[33;43mfinska\u001b[39;49m\u001b[33;43m\"\u001b[39;49m\u001b[43m)\u001b[49m\n",
      "\u001b[36mCell\u001b[39m\u001b[36m \u001b[39m\u001b[32mIn[4]\u001b[39m\u001b[32m, line 4\u001b[39m, in \u001b[36mstudent.__init__\u001b[39m\u001b[34m(self, name, age, language)\u001b[39m\n\u001b[32m      2\u001b[39m \u001b[38;5;28;01mdef\u001b[39;00m\u001b[38;5;250m \u001b[39m\u001b[34m__init__\u001b[39m(\u001b[38;5;28mself\u001b[39m, name : \u001b[38;5;28mstr\u001b[39m  , age: \u001b[38;5;28mint\u001b[39m  , language:\u001b[38;5;28mstr\u001b[39m ):\n\u001b[32m      3\u001b[39m     \u001b[38;5;66;03m# this goes to the parent and us its __init__ \u001b[39;00m\n\u001b[32m----> \u001b[39m\u001b[32m4\u001b[39m     \u001b[38;5;28;43msuper\u001b[39;49m\u001b[43m(\u001b[49m\u001b[43m)\u001b[49m\u001b[43m.\u001b[49m\u001b[34;43m__init__\u001b[39;49m\u001b[43m(\u001b[49m\u001b[43mname\u001b[49m\u001b[43m \u001b[49m\u001b[43m,\u001b[49m\u001b[43mage\u001b[49m\u001b[43m)\u001b[49m\n\u001b[32m      5\u001b[39m     \u001b[38;5;28mself\u001b[39m.language = language\n",
      "\u001b[36mCell\u001b[39m\u001b[36m \u001b[39m\u001b[32mIn[2]\u001b[39m\u001b[32m, line 4\u001b[39m, in \u001b[36mPerson.__init__\u001b[39m\u001b[34m(self, name, age)\u001b[39m\n\u001b[32m      2\u001b[39m \u001b[38;5;28;01mdef\u001b[39;00m\u001b[38;5;250m \u001b[39m\u001b[34m__init__\u001b[39m(\u001b[38;5;28mself\u001b[39m, name: \u001b[38;5;28mstr\u001b[39m , age: \u001b[38;5;28mint\u001b[39m ):\n\u001b[32m      3\u001b[39m     \u001b[38;5;28mself\u001b[39m._name = name\n\u001b[32m----> \u001b[39m\u001b[32m4\u001b[39m     \u001b[38;5;28;43mself\u001b[39;49m\u001b[43m.\u001b[49m\u001b[43mage\u001b[49m = age\n",
      "\u001b[36mCell\u001b[39m\u001b[36m \u001b[39m\u001b[32mIn[2]\u001b[39m\u001b[32m, line 21\u001b[39m, in \u001b[36mPerson.age\u001b[39m\u001b[34m(self, value)\u001b[39m\n\u001b[32m     17\u001b[39m     \u001b[38;5;28;01mraise\u001b[39;00m \u001b[38;5;167;01mTypeError\u001b[39;00m(\u001b[33mf\u001b[39m\u001b[33m\"\u001b[39m\u001b[33mage must be an integer, int not \u001b[39m\u001b[38;5;132;01m{\u001b[39;00m\u001b[38;5;28mtype\u001b[39m(value)\u001b[38;5;132;01m}\u001b[39;00m\u001b[33m\"\u001b[39m)\n\u001b[32m     20\u001b[39m \u001b[38;5;28;01mif\u001b[39;00m value < \u001b[32m0\u001b[39m \u001b[38;5;129;01mor\u001b[39;00m value >\u001b[32m124\u001b[39m:\n\u001b[32m---> \u001b[39m\u001b[32m21\u001b[39m     \u001b[38;5;28;01mraise\u001b[39;00m \u001b[38;5;167;01mValueError\u001b[39;00m(\u001b[33mf\u001b[39m\u001b[33m\"\u001b[39m\u001b[33mage must be between 0 and 123, not\u001b[39m\u001b[38;5;132;01m{\u001b[39;00mvalue\u001b[38;5;132;01m}\u001b[39;00m\u001b[33m\"\u001b[39m)\n\u001b[32m     22\u001b[39m \u001b[38;5;28mself\u001b[39m._age = value\n",
      "\u001b[31mValueError\u001b[39m: age must be between 0 and 123, not125"
     ]
    }
   ],
   "source": [
    "class student (Person):\n",
    "    def __init__(self, name : str  , age: int  , language:str ):\n",
    "        # this goes to the parent and us its __init__ \n",
    "        super().__init__(name ,age)\n",
    "        self.language = language \n",
    "\n",
    "\n",
    "s1 = student (\"bjòrn\", 125, language = \"finska\")\n",
    "\n",
    "\n"
   ]
  }
 ],
 "metadata": {
  "kernelspec": {
   "display_name": "Python 3",
   "language": "python",
   "name": "python3"
  },
  "language_info": {
   "codemirror_mode": {
    "name": "ipython",
    "version": 3
   },
   "file_extension": ".py",
   "mimetype": "text/x-python",
   "name": "python",
   "nbconvert_exporter": "python",
   "pygments_lexer": "ipython3",
   "version": "3.12.10"
  }
 },
 "nbformat": 4,
 "nbformat_minor": 2
}
